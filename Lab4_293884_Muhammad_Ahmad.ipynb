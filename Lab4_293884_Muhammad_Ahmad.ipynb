{
  "cells": [
    {
      "cell_type": "markdown",
      "metadata": {
        "id": "view-in-github",
        "colab_type": "text"
      },
      "source": [
        "<a href=\"https://colab.research.google.com/github/muhammadahmad62/ML_Labs/blob/main/Lab4_293884_Muhammad_Ahmad.ipynb\" target=\"_parent\"><img src=\"https://colab.research.google.com/assets/colab-badge.svg\" alt=\"Open In Colab\"/></a>"
      ]
    },
    {
      "cell_type": "markdown",
      "metadata": {
        "id": "ZD8uHFBjvhTm"
      },
      "source": [
        "# Machine Learning Lab 4\n",
        "Logistic Regression"
      ]
    },
    {
      "cell_type": "markdown",
      "metadata": {
        "id": "mOFD1o0pvEU8"
      },
      "source": [
        "# ML using PyTorch"
      ]
    },
    {
      "cell_type": "markdown",
      "metadata": {
        "id": "3O-usAGRvEVS"
      },
      "source": [
        "PyTorch is an open source machine learning library based on the Torch library, used for applications such as computer vision and natural language processing, primarily developed by Facebook's AI Research lab. It is free and open-source software released under the Modified BSD license"
      ]
    },
    {
      "cell_type": "markdown",
      "metadata": {
        "id": "yYvQwh3vvEVV"
      },
      "source": [
        "## PyTorch Tensors\n",
        "Tensors are a specialized data structure that are very similar to arrays and matrices. In PyTorch, we use tensors to encode the inputs and outputs of a model, as well as the model’s parameters.\n",
        "\n",
        "Tensors are similar to NumPy’s ndarrays, except that tensors can run on GPUs or other hardware accelerators. In fact, tensors and NumPy arrays can often share the same underlying memory, eliminating the need to copy data (see Bridge with NumPy). Tensors are also optimized for automatic differentiation (we’ll see more about that later in the Autograd section). If you’re familiar with ndarrays, you’ll be right at home with the Tensor API. If not, follow along!\n",
        "\n",
        "Go through the following link to learn the basics of Tensors in Pytorch:\n",
        "https://pytorch.org/tutorials/beginner/basics/tensor_tutorial.html"
      ]
    },
    {
      "cell_type": "markdown",
      "metadata": {
        "id": "hgGX-4xSvEVY"
      },
      "source": [
        "## Linear Regression Using Pytorch"
      ]
    },
    {
      "cell_type": "code",
      "execution_count": null,
      "metadata": {
        "id": "Xvnvdj9nvEVa"
      },
      "outputs": [],
      "source": [
        "from numpy import loadtxt\n",
        "import numpy as np\n",
        "import torch\n",
        "from torch import nn\n",
        "from torchvision import transforms\n",
        "import torch.optim as optim\n",
        "\n",
        "\n",
        "# Load the datasets\n",
        "np_data = loadtxt('/content/sample_data/ex1data1.txt', delimiter=',')\n",
        "\n",
        "# convert np array to pytorch tensor\n",
        "X = torch.from_numpy((np_data[:,np.newaxis,0]).astype('float32'))\n",
        "Y = torch.from_numpy(np_data[:,np.newaxis,1].astype('float32'))\n",
        "\n",
        "# Linear regression hypothesis using Pytorch\n",
        "hypothesis = nn.Linear(X.shape[1], 1, bias=True) # h = w x + b\n",
        "\n",
        "optimizer = optim.SGD(hypothesis.parameters(), lr = .01) # stochastic gradient descent with learning rate lr\n",
        "Cost = nn.MSELoss() # mean squared error\n",
        "\n",
        "J_history = []\n",
        "for iterations in range(200):\n",
        "    optimizer.zero_grad()\n",
        "    # forward pass\n",
        "    out = hypothesis(X)\n",
        "    \n",
        "    loss = Cost(out, Y)\n",
        "    \n",
        "    # backward pass\n",
        "    loss.backward()\n",
        "    \n",
        "    # update paramters\n",
        "    optimizer.step()\n",
        "    \n",
        "    J_history += [loss.item()]\n",
        "\n"
      ]
    },
    {
      "cell_type": "code",
      "execution_count": null,
      "metadata": {
        "colab": {
          "base_uri": "https://localhost:8080/",
          "height": 562
        },
        "id": "HDdUtadqvEVf",
        "outputId": "8a845ff0-bfe4-418a-8e61-3fa5f296414b",
        "scrolled": true
      },
      "outputs": [
        {
          "output_type": "display_data",
          "data": {
            "text/plain": [
              "<Figure size 432x288 with 1 Axes>"
            ],
            "image/png": "[encoded data removed]"
          },
          "metadata": {
            "needs_background": "light"
          }
        },
        {
          "output_type": "execute_result",
          "data": {
            "text/plain": [
              "[<matplotlib.lines.Line2D at 0x7f4262267f90>]"
            ]
          },
          "metadata": {},
          "execution_count": 2
        },
        {
          "output_type": "display_data",
          "data": {
            "text/plain": [
              "<Figure size 432x288 with 1 Axes>"
            ],
            "image/png": "[encoded data removed]"
          },
          "metadata": {
            "needs_background": "light"
          }
        }
      ],
      "source": [
        "# plot the results\n",
        "from matplotlib import pyplot as plt\n",
        "plt.plot(J_history)\n",
        "plt.title('Convergence plot of gradient descent')\n",
        "plt.xlabel('No of iterations')\n",
        "plt.ylabel('J')\n",
        "plt.show()\n",
        "plt.plot(X,Y,'.')\n",
        "plt.plot(X[:, 0], out.detach().numpy(), c = 'r')"
      ]
    },
    {
      "cell_type": "markdown",
      "metadata": {
        "id": "SLlzwj7LvEVi"
      },
      "source": [
        "## Multiclass Logistic Regression using Pytorch (softmax classification)\n",
        "\n",
        "Reading assignment: Go through the following\n",
        "\n",
        "https://pytorch.org/docs/stable/generated/torch.nn.Linear.html\n",
        "https://pytorch.org/docs/stable/generated/torch.nn.LogSoftmax.html\n",
        "https://pytorch.org/docs/stable/generated/torch.nn.NLLLoss.html\n",
        "\n",
        "Mini batch gradient descent:\n",
        "\n",
        "https://towardsdatascience.com/batch-mini-batch-stochastic-gradient-descent-7a62ecba642a"
      ]
    },
    {
      "cell_type": "code",
      "execution_count": null,
      "metadata": {
        "id": "ICCSvuT3vEVk"
      },
      "outputs": [],
      "source": [
        "from sklearn import datasets\n",
        "from sklearn.preprocessing import OneHotEncoder\n",
        "\n",
        "# Load the classification dataset (https://scikit-learn.org/stable/auto_examples/datasets/plot_iris_dataset.html)\n",
        "np_data = datasets.load_iris()\n",
        "\n",
        "# convert np array to pytorch tensor\n",
        "X = torch.from_numpy((np_data.data).astype('float32'))\n",
        "Y = torch.from_numpy((np_data.target.astype('int64')))\n",
        "\n",
        "\n",
        "# Logistic regression hypothesis using Pytorch\n",
        "hypothesis = nn.Sequential(\n",
        "    nn.Linear(X.shape[1], 3, bias=True), \n",
        "    nn.LogSoftmax(dim=1)) \n",
        "    \n",
        "optimizer = optim.SGD(hypothesis.parameters(), lr = .01) # stochastic gradient descent with learning rate lr\n",
        "Cost = nn.NLLLoss() # Negative log likelihood loss\n",
        "\n",
        "J_history = []\n",
        "for iterations in range(200):\n",
        "    optimizer.zero_grad()\n",
        "    # forward pass\n",
        "    out = hypothesis(X)\n",
        "    \n",
        "    loss = Cost(out, Y)\n",
        "    \n",
        "    # backward pass\n",
        "    loss.backward()\n",
        "    \n",
        "    # update paramters\n",
        "    optimizer.step()\n",
        "    \n",
        "    J_history += [loss.item()]\n",
        "    "
      ]
    },
    {
      "cell_type": "code",
      "execution_count": null,
      "metadata": {
        "colab": {
          "base_uri": "https://localhost:8080/",
          "height": 295
        },
        "id": "rSger070vEVm",
        "outputId": "402b6da6-b1c4-4b84-c05e-58ff2fbf10cc"
      },
      "outputs": [
        {
          "output_type": "display_data",
          "data": {
            "text/plain": [
              "<Figure size 432x288 with 1 Axes>"
            ],
            "image/png": "[encoded data removed]"
          },
          "metadata": {
            "needs_background": "light"
          }
        }
      ],
      "source": [
        "# plot the results\n",
        "from matplotlib import pyplot as plt\n",
        "plt.plot(J_history)\n",
        "plt.title('Convergence plot of gradient descent')\n",
        "plt.xlabel('No of iterations')\n",
        "plt.ylabel('J')\n",
        "plt.show()"
      ]
    },
    {
      "cell_type": "markdown",
      "metadata": {
        "id": "pTRzSVv4vEVo"
      },
      "source": [
        "# Lab Task\n",
        "## Logistic Regression on MNIST Handwritten Digit \n",
        "Apply logistic regression to mnist handwritten digits. Use the code in the previous cell as the starter code. There are 10 classes so the number of out_feature in nn.Linear will be 10. Set the in_features according to the dimension of vectorised image. Plot the convergence plot of gradiet descent.\n",
        "\n",
        "Note: Do not use convolution or Deep neural network. Use vectorised image as input. Use multiclass logistic regression model as studied in the class and implemented in the previous cell. "
      ]
    },
    {
      "cell_type": "markdown",
      "metadata": {
        "id": "vlBqAhfbvEVq"
      },
      "source": [
        "### 1. Load the MNIST data\n",
        "Follow the guidelines here to download and use MNIST data\n",
        "https://pytorch.org/tutorials/beginner/basics/data_tutorial.html"
      ]
    },
    {
      "cell_type": "code",
      "execution_count": null,
      "metadata": {
        "id": "ispbXD9yvEVr",
        "colab": {
          "base_uri": "https://localhost:8080/",
          "height": 431,
          "referenced_widgets": [
            "dfb934e0dd2947c0b451c3280995c249",
            "57d24ef310b94fa7b234ac0a40825cd0",
            "2bf1019980f644c9b16cbc97b27ff3e5",
            "68e3ab6c29ee485eb63a66a12e02b7a7",
            "c94a75564b80443993304cce258fe4b2",
            "0806ee28835644a29a28611acd18ef69",
            "19798666441744ce8f867c5a03f4c31b",
            "37a97eb76d7a4befa188fa3c18e4dc61",
            "90997fb637af499fbd15b9ab9d8d5859",
            "de096d48f2c84e4fba16d7eab44dacc1",
            "2fd0cc374a0d4626862f12d41ae664bc",
            "87c3a760154b4a679f8169f170925d3c",
            "799f0eba89c34285ab0dd8276dd6f58d",
            "e6b552ce0ed547c0ab040ed213da989b",
            "cc36312e74724e9a91fbae212e6eda05",
            "63d595030c1e4be9946e74ff44340e40",
            "f26002003dd04dbbbfa87e7f77f9181a",
            "cf25b286e68a46ec9114f65d66a420dd",
            "f080e8e79bf0495dae78ec06f02bafd3",
            "8c99b6651d704443ba75cd268d01a3cf",
            "72844ae2a7194663b258baae276a647e",
            "ebd3abdf32d04919be6c61a1b49f8cbf",
            "ba97caaa0fbb4b0e8df45e61e3e7b3fb",
            "3640684b581243068e2c38e92beefe68",
            "762111d0c6c540cca3131238e89319ef",
            "14813304d7904bb885e1e2b48dd48ddb",
            "ba13c3d677594353ad3028979fc10215",
            "61175fa795e94751a19846a07550a793",
            "ad4722bfda4443af9b4388ce1fcc4feb",
            "52a48444fdc64b558e3cdc0c1ba7cc59",
            "0c166183676f466dae7f4048feeec332",
            "c04be2b0c8ef4b4d825f168f265c77bf",
            "9ce31c58244745fe8ced5e6605fb7f7a",
            "2d9b1e015161426d8f6fc8928d062e05",
            "232b52c073fe453eb0b97e549e6c7036",
            "ff1aef29c0164723acb2404cdadc45b8",
            "4491175845b14105893c0d662da6c85e",
            "0dc05c417b094baea532873a1bf5a3ae",
            "cde927f3b44b44f0a759c7944be70055",
            "50ab99ae7d674514adb10eef4ec6770f",
            "7439d843cb594482a977f2e3b724f411",
            "c4c3bd9094064645b9cd28e4f99ece24",
            "8c1980aaa4674b3697913c7bc109c3a0",
            "f301a3c5df5446acaca607a5c53a73fd"
          ]
        },
        "outputId": "e137ea51-3b37-4f40-d792-ece153c73306"
      },
      "outputs": [
        {
          "output_type": "stream",
          "name": "stdout",
          "text": [
            "Downloading http://yann.lecun.com/exdb/mnist/train-images-idx3-ubyte.gz\n",
            "Downloading http://yann.lecun.com/exdb/mnist/train-images-idx3-ubyte.gz to data/MNIST/raw/train-images-idx3-ubyte.gz\n"
          ]
        },
        {
          "output_type": "display_data",
          "data": {
            "text/plain": [
              "  0%|          | 0/9912422 [00:00<?, ?it/s]"
            ],
            "application/vnd.jupyter.widget-view+json": {
              "version_major": 2,
              "version_minor": 0,
              "model_id": "dfb934e0dd2947c0b451c3280995c249"
            }
          },
          "metadata": {}
        },
        {
          "output_type": "stream",
          "name": "stdout",
          "text": [
            "Extracting data/MNIST/raw/train-images-idx3-ubyte.gz to data/MNIST/raw\n",
            "\n",
            "Downloading http://yann.lecun.com/exdb/mnist/train-labels-idx1-ubyte.gz\n",
            "Downloading http://yann.lecun.com/exdb/mnist/train-labels-idx1-ubyte.gz to data/MNIST/raw/train-labels-idx1-ubyte.gz\n"
          ]
        },
        {
          "output_type": "display_data",
          "data": {
            "text/plain": [
              "  0%|          | 0/28881 [00:00<?, ?it/s]"
            ],
            "application/vnd.jupyter.widget-view+json": {
              "version_major": 2,
              "version_minor": 0,
              "model_id": "87c3a760154b4a679f8169f170925d3c"
            }
          },
          "metadata": {}
        },
        {
          "output_type": "stream",
          "name": "stdout",
          "text": [
            "Extracting data/MNIST/raw/train-labels-idx1-ubyte.gz to data/MNIST/raw\n",
            "\n",
            "Downloading http://yann.lecun.com/exdb/mnist/t10k-images-idx3-ubyte.gz\n",
            "Downloading http://yann.lecun.com/exdb/mnist/t10k-images-idx3-ubyte.gz to data/MNIST/raw/t10k-images-idx3-ubyte.gz\n"
          ]
        },
        {
          "output_type": "display_data",
          "data": {
            "text/plain": [
              "  0%|          | 0/1648877 [00:00<?, ?it/s]"
            ],
            "application/vnd.jupyter.widget-view+json": {
              "version_major": 2,
              "version_minor": 0,
              "model_id": "ba97caaa0fbb4b0e8df45e61e3e7b3fb"
            }
          },
          "metadata": {}
        },
        {
          "output_type": "stream",
          "name": "stdout",
          "text": [
            "Extracting data/MNIST/raw/t10k-images-idx3-ubyte.gz to data/MNIST/raw\n",
            "\n",
            "Downloading http://yann.lecun.com/exdb/mnist/t10k-labels-idx1-ubyte.gz\n",
            "Downloading http://yann.lecun.com/exdb/mnist/t10k-labels-idx1-ubyte.gz to data/MNIST/raw/t10k-labels-idx1-ubyte.gz\n"
          ]
        },
        {
          "output_type": "display_data",
          "data": {
            "text/plain": [
              "  0%|          | 0/4542 [00:00<?, ?it/s]"
            ],
            "application/vnd.jupyter.widget-view+json": {
              "version_major": 2,
              "version_minor": 0,
              "model_id": "2d9b1e015161426d8f6fc8928d062e05"
            }
          },
          "metadata": {}
        },
        {
          "output_type": "stream",
          "name": "stdout",
          "text": [
            "Extracting data/MNIST/raw/t10k-labels-idx1-ubyte.gz to data/MNIST/raw\n",
            "\n"
          ]
        }
      ],
      "source": [
        "# use the following imports to download MNIST using Pytorch \n",
        "from torch.utils.data import Dataset\n",
        "from torch.utils.data import DataLoader\n",
        "from torchvision import transforms\n",
        "from torchvision import datasets\n",
        "\n",
        "#todo: \n",
        "training_data = datasets.MNIST(\n",
        "    root=\"data\",\n",
        "    train=True,\n",
        "    download=True,\n",
        "    transform=transforms.ToTensor()\n",
        ")\n",
        "\n",
        "test_data = datasets.MNIST(\n",
        "    root=\"data\",\n",
        "    train=False,\n",
        "    download=True,\n",
        "    transform=transforms.ToTensor()\n",
        ")\n",
        "\n",
        "batch_size = 32\n",
        "\n",
        "train_loader = torch.utils.data.DataLoader(\n",
        "    dataset=training_data, \n",
        "    batch_size=batch_size, \n",
        "    shuffle=True\n",
        ")\n",
        "\n",
        "test_loader = torch.utils.data.DataLoader(\n",
        "    dataset=test_data, \n",
        "    batch_size=batch_size, \n",
        "    shuffle = True\n",
        ")\n"
      ]
    },
    {
      "cell_type": "markdown",
      "metadata": {
        "id": "gQK8ft9EvEVs"
      },
      "source": [
        "### 2.  Create a multiclass logistic regression (softmax) model and train"
      ]
    },
    {
      "cell_type": "code",
      "execution_count": null,
      "metadata": {
        "colab": {
          "base_uri": "https://localhost:8080/"
        },
        "id": "k-HAPujTvEVt",
        "outputId": "918a03ed-395c-40fa-a21c-64b6baf34972"
      },
      "outputs": [
        {
          "output_type": "stream",
          "name": "stdout",
          "text": [
            "Iteration: 500 Loss: 1.0308400392532349\n",
            "Iteration: 1000 Loss: 0.45131826400756836\n",
            "Iteration: 1500 Loss: 0.482810378074646\n",
            "Iteration: 2000 Loss: 0.6380707621574402\n",
            "Iteration: 2500 Loss: 0.4206807613372803\n",
            "Iteration: 3000 Loss: 0.3726761043071747\n",
            "Iteration: 3500 Loss: 0.31096580624580383\n",
            "Iteration: 4000 Loss: 0.4947313070297241\n",
            "Iteration: 4500 Loss: 0.2973131537437439\n",
            "Iteration: 5000 Loss: 0.5799105167388916\n",
            "Iteration: 5500 Loss: 0.4461223781108856\n",
            "Iteration: 6000 Loss: 0.2503400444984436\n",
            "Iteration: 6500 Loss: 0.27211037278175354\n",
            "Iteration: 7000 Loss: 0.32387855648994446\n",
            "Iteration: 7500 Loss: 0.5670031905174255\n",
            "Iteration: 8000 Loss: 0.2616320848464966\n",
            "Iteration: 8500 Loss: 0.13951288163661957\n",
            "Iteration: 9000 Loss: 0.398036390542984\n",
            "Iteration: 9500 Loss: 0.1885308474302292\n",
            "Iteration: 10000 Loss: 0.2466440498828888\n",
            "Iteration: 10500 Loss: 0.3407439589500427\n",
            "Iteration: 11000 Loss: 0.39062145352363586\n",
            "Iteration: 11500 Loss: 0.2517290413379669\n",
            "Iteration: 12000 Loss: 0.19389685988426208\n",
            "Iteration: 12500 Loss: 0.30536168813705444\n",
            "Iteration: 13000 Loss: 0.42248761653900146\n",
            "Iteration: 13500 Loss: 0.502201497554779\n",
            "Iteration: 14000 Loss: 0.3127601444721222\n",
            "Iteration: 14500 Loss: 0.27240726351737976\n",
            "Iteration: 15000 Loss: 0.3583414554595947\n",
            "Iteration: 15500 Loss: 0.38205990195274353\n",
            "Iteration: 16000 Loss: 0.22655637562274933\n",
            "Iteration: 16500 Loss: 0.31365713477134705\n",
            "Iteration: 17000 Loss: 0.22521698474884033\n",
            "Iteration: 17500 Loss: 0.14141716063022614\n",
            "Iteration: 18000 Loss: 0.3196456730365753\n",
            "Iteration: 18500 Loss: 0.17762723565101624\n",
            "Iteration: 19000 Loss: 0.1164342612028122\n",
            "Iteration: 19500 Loss: 0.2005758285522461\n",
            "Iteration: 20000 Loss: 0.2973203957080841\n",
            "Iteration: 20500 Loss: 0.21376068890094757\n",
            "Iteration: 21000 Loss: 0.5176647901535034\n",
            "Iteration: 21500 Loss: 0.4469399154186249\n",
            "Iteration: 22000 Loss: 0.3361475169658661\n",
            "Iteration: 22500 Loss: 0.1701783835887909\n",
            "Iteration: 23000 Loss: 0.22895856201648712\n",
            "Iteration: 23500 Loss: 0.3257080912590027\n",
            "Iteration: 24000 Loss: 0.1922716647386551\n",
            "Iteration: 24500 Loss: 0.15665143728256226\n",
            "Iteration: 25000 Loss: 0.5528539419174194\n",
            "Iteration: 25500 Loss: 0.17006506025791168\n",
            "Iteration: 26000 Loss: 0.11006542295217514\n",
            "Iteration: 26500 Loss: 0.44932448863983154\n",
            "Iteration: 27000 Loss: 0.42909616231918335\n",
            "Iteration: 27500 Loss: 0.5023569464683533\n",
            "Iteration: 28000 Loss: 0.3580964505672455\n",
            "Iteration: 28500 Loss: 0.49964338541030884\n",
            "Iteration: 29000 Loss: 0.18269571661949158\n",
            "Iteration: 29500 Loss: 0.1717759370803833\n",
            "Iteration: 30000 Loss: 0.5422021150588989\n",
            "Iteration: 30500 Loss: 0.2853175401687622\n",
            "Iteration: 31000 Loss: 0.18839332461357117\n",
            "Iteration: 31500 Loss: 0.21888066828250885\n",
            "Iteration: 32000 Loss: 0.16225089132785797\n",
            "Iteration: 32500 Loss: 0.45876118540763855\n",
            "Iteration: 33000 Loss: 0.16189740598201752\n",
            "Iteration: 33500 Loss: 0.2571719288825989\n",
            "Iteration: 34000 Loss: 0.25844550132751465\n",
            "Iteration: 34500 Loss: 0.2588001787662506\n",
            "Iteration: 35000 Loss: 0.1149488165974617\n",
            "Iteration: 35500 Loss: 0.46894070506095886\n",
            "Iteration: 36000 Loss: 0.13052770495414734\n",
            "Iteration: 36500 Loss: 0.4079531133174896\n",
            "Iteration: 37000 Loss: 0.2571982145309448\n",
            "Iteration: 37500 Loss: 0.26160484552383423\n",
            "Iteration: 38000 Loss: 0.3644568920135498\n",
            "Iteration: 38500 Loss: 0.42592597007751465\n",
            "Iteration: 39000 Loss: 0.43075668811798096\n",
            "Iteration: 39500 Loss: 0.23648956418037415\n",
            "Iteration: 40000 Loss: 0.4636858403682709\n",
            "Iteration: 40500 Loss: 0.6568979024887085\n",
            "Iteration: 41000 Loss: 0.642464816570282\n",
            "Iteration: 41500 Loss: 0.18461290001869202\n",
            "Iteration: 42000 Loss: 0.3251655101776123\n",
            "Iteration: 42500 Loss: 0.19925326108932495\n",
            "Iteration: 43000 Loss: 0.19282250106334686\n",
            "Iteration: 43500 Loss: 0.2494271695613861\n",
            "Iteration: 44000 Loss: 0.6482933759689331\n",
            "Iteration: 44500 Loss: 0.33428484201431274\n",
            "Iteration: 45000 Loss: 0.15143318474292755\n",
            "Iteration: 45500 Loss: 0.2499677985906601\n",
            "Iteration: 46000 Loss: 0.3589433431625366\n",
            "Iteration: 46500 Loss: 0.3329661786556244\n",
            "Iteration: 47000 Loss: 0.1222427487373352\n",
            "Iteration: 47500 Loss: 0.3271380662918091\n",
            "Iteration: 48000 Loss: 0.08989137411117554\n",
            "Iteration: 48500 Loss: 0.22383280098438263\n",
            "Iteration: 49000 Loss: 0.22107110917568207\n",
            "Iteration: 49500 Loss: 0.2996179163455963\n",
            "Iteration: 50000 Loss: 0.12838195264339447\n",
            "Iteration: 50500 Loss: 0.2479025274515152\n",
            "Iteration: 51000 Loss: 0.4090050756931305\n",
            "Iteration: 51500 Loss: 0.2591456174850464\n",
            "Iteration: 52000 Loss: 0.21012257039546967\n",
            "Iteration: 52500 Loss: 0.2613949477672577\n",
            "Iteration: 53000 Loss: 0.20482219755649567\n",
            "Iteration: 53500 Loss: 0.14426687359809875\n",
            "Iteration: 54000 Loss: 0.1112939789891243\n",
            "Iteration: 54500 Loss: 0.5682770013809204\n",
            "Iteration: 55000 Loss: 0.12223932147026062\n",
            "Iteration: 55500 Loss: 0.35665184259414673\n",
            "Iteration: 56000 Loss: 0.1366705745458603\n",
            "Iteration: 56500 Loss: 0.3855929374694824\n",
            "Iteration: 57000 Loss: 0.2772345244884491\n",
            "Iteration: 57500 Loss: 0.0783400610089302\n",
            "Iteration: 58000 Loss: 0.3046145737171173\n",
            "Iteration: 58500 Loss: 0.24581024050712585\n",
            "Iteration: 59000 Loss: 0.1695416420698166\n",
            "Iteration: 59500 Loss: 0.3009803295135498\n",
            "Iteration: 60000 Loss: 0.34659236669540405\n",
            "Iteration: 60500 Loss: 0.35371315479278564\n",
            "Iteration: 61000 Loss: 0.10652396827936172\n",
            "Iteration: 61500 Loss: 0.26057302951812744\n",
            "Iteration: 62000 Loss: 0.2721893787384033\n",
            "Iteration: 62500 Loss: 0.1765044629573822\n",
            "Iteration: 63000 Loss: 0.24461056292057037\n",
            "Iteration: 63500 Loss: 0.2727852761745453\n",
            "Iteration: 64000 Loss: 0.6037733554840088\n",
            "Iteration: 64500 Loss: 0.3400611877441406\n",
            "Iteration: 65000 Loss: 0.1965872347354889\n",
            "Iteration: 65500 Loss: 0.4507962465286255\n",
            "Iteration: 66000 Loss: 0.2041509449481964\n",
            "Iteration: 66500 Loss: 0.21420176327228546\n",
            "Iteration: 67000 Loss: 0.1646071970462799\n",
            "Iteration: 67500 Loss: 0.3549143373966217\n",
            "Iteration: 68000 Loss: 0.22177673876285553\n",
            "Iteration: 68500 Loss: 0.2406344711780548\n",
            "Iteration: 69000 Loss: 0.11683467030525208\n",
            "Iteration: 69500 Loss: 0.17590144276618958\n",
            "Iteration: 70000 Loss: 0.12853047251701355\n",
            "Iteration: 70500 Loss: 0.18478436768054962\n",
            "Iteration: 71000 Loss: 0.24567866325378418\n",
            "Iteration: 71500 Loss: 0.23093242943286896\n",
            "Iteration: 72000 Loss: 0.06578867137432098\n",
            "Iteration: 72500 Loss: 0.13707920908927917\n",
            "Iteration: 73000 Loss: 0.23206457495689392\n",
            "Iteration: 73500 Loss: 0.10200264304876328\n",
            "Iteration: 74000 Loss: 0.2168763130903244\n",
            "Iteration: 74500 Loss: 0.37893858551979065\n",
            "Iteration: 75000 Loss: 0.38460007309913635\n",
            "Iteration: 75500 Loss: 0.24003519117832184\n",
            "Iteration: 76000 Loss: 0.30103981494903564\n",
            "Iteration: 76500 Loss: 0.45242175459861755\n",
            "Iteration: 77000 Loss: 0.12172948569059372\n",
            "Iteration: 77500 Loss: 0.23387299478054047\n",
            "Iteration: 78000 Loss: 0.28814131021499634\n",
            "Iteration: 78500 Loss: 0.38455930352211\n",
            "Iteration: 79000 Loss: 0.8959657549858093\n",
            "Iteration: 79500 Loss: 0.1240818053483963\n",
            "Iteration: 80000 Loss: 0.20231500267982483\n",
            "Iteration: 80500 Loss: 0.2775894105434418\n",
            "Iteration: 81000 Loss: 0.21797287464141846\n",
            "Iteration: 81500 Loss: 0.32689666748046875\n",
            "Iteration: 82000 Loss: 0.2501371204853058\n",
            "Iteration: 82500 Loss: 0.197906956076622\n",
            "Iteration: 83000 Loss: 0.2710922658443451\n",
            "Iteration: 83500 Loss: 0.29826620221138\n",
            "Iteration: 84000 Loss: 0.2320500761270523\n",
            "Iteration: 84500 Loss: 0.573061466217041\n",
            "Iteration: 85000 Loss: 0.40221768617630005\n",
            "Iteration: 85500 Loss: 0.33430537581443787\n",
            "Iteration: 86000 Loss: 0.2012976109981537\n",
            "Iteration: 86500 Loss: 0.30682435631752014\n",
            "Iteration: 87000 Loss: 0.1273224651813507\n",
            "Iteration: 87500 Loss: 0.15732517838478088\n",
            "Iteration: 88000 Loss: 0.1431335061788559\n",
            "Iteration: 88500 Loss: 0.37245407700538635\n",
            "Iteration: 89000 Loss: 0.2617753744125366\n",
            "Iteration: 89500 Loss: 0.6149522066116333\n",
            "Iteration: 90000 Loss: 0.18139731884002686\n",
            "Iteration: 90500 Loss: 0.07204992324113846\n",
            "Iteration: 91000 Loss: 0.3767840266227722\n",
            "Iteration: 91500 Loss: 0.3024996221065521\n",
            "Iteration: 92000 Loss: 0.44926562905311584\n",
            "Iteration: 92500 Loss: 0.22665226459503174\n",
            "Iteration: 93000 Loss: 0.09136732667684555\n",
            "Iteration: 93500 Loss: 0.1777770221233368\n"
          ]
        }
      ],
      "source": [
        "# Create softmax model. in_features = 28x28 and out_features = 10\n",
        "# todo:\n",
        "\n",
        "# Logistic regression hypothesis using Pytorch\n",
        "hypothesis = nn.Sequential(\n",
        "    nn.Linear(28*28, 10, bias=True), \n",
        "    nn.LogSoftmax(dim=1)) \n",
        "    \n",
        "optimizer = optim.SGD(hypothesis.parameters(), lr = .01) # stochastic gradient descent with learning rate lr\n",
        "Cost = nn.NLLLoss() \n",
        "\n",
        "J_history = []\n",
        "iter = 0\n",
        "\n",
        "for epoch in range(50):\n",
        "  for i, (images, labels) in enumerate(train_loader):\n",
        "    X_train = images.view(-1, 28*28)\n",
        "    y_train = labels\n",
        "\n",
        "    optimizer.zero_grad()\n",
        "    \n",
        "    out = hypothesis(X_train)\n",
        "  \n",
        "    loss = Cost(out, y_train)\n",
        "    \n",
        "    loss.backward()\n",
        "    \n",
        "    optimizer.step()\n",
        "    \n",
        "    J_history += [loss.item()]\n",
        "    iter += 1\n",
        "\n",
        "    if iter % 500 == 0: \n",
        "      print('Iteration: {} Loss: {}'.format(iter, loss.item()))\n"
      ]
    },
    {
      "cell_type": "markdown",
      "metadata": {
        "id": "QLqI73rOvEVu"
      },
      "source": [
        "### 3. Plot Convergence plot of gradient descent with respect to no of epochs"
      ]
    },
    {
      "cell_type": "code",
      "execution_count": null,
      "metadata": {
        "colab": {
          "base_uri": "https://localhost:8080/",
          "height": 295
        },
        "id": "T3dwG_AWvEVv",
        "outputId": "aee2789d-8bc0-49b0-88e9-72abfd10b76f"
      },
      "outputs": [
        {
          "output_type": "display_data",
          "data": {
            "text/plain": [
              "<Figure size 432x288 with 1 Axes>"
            ],
            "image/png": "[encoded data removed]"
          },
          "metadata": {
            "needs_background": "light"
          }
        }
      ],
      "source": [
        "# each of 10 epochs consists of 1875 iterations (train_data/batch_size = 60000/32)\n",
        "\n",
        "from matplotlib import pyplot as plt\n",
        "plt.plot(J_history)\n",
        "plt.title('Convergence plot of gradient descent')\n",
        "plt.xlabel('No of iterations')\n",
        "plt.ylabel('J')\n",
        "plt.show()"
      ]
    },
    {
      "cell_type": "markdown",
      "metadata": {
        "id": "MQOXQDPXvEVv"
      },
      "source": [
        "### 4. Test on a batch of test images and display images with the predicted label"
      ]
    },
    {
      "cell_type": "code",
      "execution_count": null,
      "metadata": {
        "colab": {
          "base_uri": "https://localhost:8080/",
          "height": 1000
        },
        "id": "xSU2ordlvEVw",
        "outputId": "3898ae0a-1393-4782-bba4-98f3ac3acd67"
      },
      "outputs": [
        {
          "output_type": "stream",
          "name": "stdout",
          "text": [
            "TEST: 1\n"
          ]
        },
        {
          "output_type": "display_data",
          "data": {
            "text/plain": [
              "<Figure size 432x288 with 1 Axes>"
            ],
            "image/png": "[encoded data removed]"
          },
          "metadata": {
            "needs_background": "light"
          }
        },
        {
          "output_type": "stream",
          "name": "stdout",
          "text": [
            "PREDICTION: 2\n",
            "LABEL FOR IMAGE: 2\n",
            "\n",
            "TEST: 2\n"
          ]
        },
        {
          "output_type": "display_data",
          "data": {
            "text/plain": [
              "<Figure size 432x288 with 1 Axes>"
            ],
            "image/png": "[encoded data removed]"
          },
          "metadata": {
            "needs_background": "light"
          }
        },
        {
          "output_type": "stream",
          "name": "stdout",
          "text": [
            "PREDICTION: 2\n",
            "LABEL FOR IMAGE: 2\n",
            "\n",
            "TEST: 3\n"
          ]
        },
        {
          "output_type": "display_data",
          "data": {
            "text/plain": [
              "<Figure size 432x288 with 1 Axes>"
            ],
            "image/png": "[encoded data removed]"
          },
          "metadata": {
            "needs_background": "light"
          }
        },
        {
          "output_type": "stream",
          "name": "stdout",
          "text": [
            "PREDICTION: 9\n",
            "LABEL FOR IMAGE: 9\n",
            "\n",
            "TEST: 4\n"
          ]
        },
        {
          "output_type": "display_data",
          "data": {
            "text/plain": [
              "<Figure size 432x288 with 1 Axes>"
            ],
            "image/png": "[encoded data removed]"
          },
          "metadata": {
            "needs_background": "light"
          }
        },
        {
          "output_type": "stream",
          "name": "stdout",
          "text": [
            "PREDICTION: 2\n",
            "LABEL FOR IMAGE: 2\n",
            "\n",
            "TEST: 5\n"
          ]
        },
        {
          "output_type": "display_data",
          "data": {
            "text/plain": [
              "<Figure size 432x288 with 1 Axes>"
            ],
            "image/png": "[encoded data removed]"
          },
          "metadata": {
            "needs_background": "light"
          }
        },
        {
          "output_type": "stream",
          "name": "stdout",
          "text": [
            "PREDICTION: 1\n",
            "LABEL FOR IMAGE: 1\n",
            "\n",
            "TEST: 6\n"
          ]
        },
        {
          "output_type": "display_data",
          "data": {
            "text/plain": [
              "<Figure size 432x288 with 1 Axes>"
            ],
            "image/png": "[encoded data removed]"
          },
          "metadata": {
            "needs_background": "light"
          }
        },
        {
          "output_type": "stream",
          "name": "stdout",
          "text": [
            "PREDICTION: 1\n",
            "LABEL FOR IMAGE: 1\n",
            "\n",
            "TEST: 7\n"
          ]
        },
        {
          "output_type": "display_data",
          "data": {
            "text/plain": [
              "<Figure size 432x288 with 1 Axes>"
            ],
            "image/png": "[encoded data removed]"
          },
          "metadata": {
            "needs_background": "light"
          }
        },
        {
          "output_type": "stream",
          "name": "stdout",
          "text": [
            "PREDICTION: 1\n",
            "LABEL FOR IMAGE: 1\n",
            "\n",
            "TEST: 8\n"
          ]
        },
        {
          "output_type": "display_data",
          "data": {
            "text/plain": [
              "<Figure size 432x288 with 1 Axes>"
            ],
            "image/png": "[encoded data removed]"
          },
          "metadata": {
            "needs_background": "light"
          }
        },
        {
          "output_type": "stream",
          "name": "stdout",
          "text": [
            "PREDICTION: 6\n",
            "LABEL FOR IMAGE: 6\n",
            "\n",
            "TEST: 9\n"
          ]
        },
        {
          "output_type": "display_data",
          "data": {
            "text/plain": [
              "<Figure size 432x288 with 1 Axes>"
            ],
            "image/png": "[encoded data removed]"
          },
          "metadata": {
            "needs_background": "light"
          }
        },
        {
          "output_type": "stream",
          "name": "stdout",
          "text": [
            "PREDICTION: 0\n",
            "LABEL FOR IMAGE: 0\n",
            "\n",
            "TEST: 10\n"
          ]
        },
        {
          "output_type": "display_data",
          "data": {
            "text/plain": [
              "<Figure size 432x288 with 1 Axes>"
            ],
            "image/png": "[encoded data removed]"
          },
          "metadata": {
            "needs_background": "light"
          }
        },
        {
          "output_type": "stream",
          "name": "stdout",
          "text": [
            "PREDICTION: 5\n",
            "LABEL FOR IMAGE: 5\n",
            "\n",
            "TEST: 11\n"
          ]
        },
        {
          "output_type": "display_data",
          "data": {
            "text/plain": [
              "<Figure size 432x288 with 1 Axes>"
            ],
            "image/png": "[encoded data removed]"
          },
          "metadata": {
            "needs_background": "light"
          }
        },
        {
          "output_type": "stream",
          "name": "stdout",
          "text": [
            "PREDICTION: 1\n",
            "LABEL FOR IMAGE: 1\n",
            "\n",
            "TEST: 12\n"
          ]
        },
        {
          "output_type": "display_data",
          "data": {
            "text/plain": [
              "<Figure size 432x288 with 1 Axes>"
            ],
            "image/png": "[encoded data removed]"
          },
          "metadata": {
            "needs_background": "light"
          }
        },
        {
          "output_type": "stream",
          "name": "stdout",
          "text": [
            "PREDICTION: 9\n",
            "LABEL FOR IMAGE: 9\n",
            "\n",
            "TEST: 13\n"
          ]
        },
        {
          "output_type": "display_data",
          "data": {
            "text/plain": [
              "<Figure size 432x288 with 1 Axes>"
            ],
            "image/png": "[encoded data removed]"
          },
          "metadata": {
            "needs_background": "light"
          }
        },
        {
          "output_type": "stream",
          "name": "stdout",
          "text": [
            "PREDICTION: 6\n",
            "LABEL FOR IMAGE: 6\n",
            "\n",
            "TEST: 14\n"
          ]
        },
        {
          "output_type": "display_data",
          "data": {
            "text/plain": [
              "<Figure size 432x288 with 1 Axes>"
            ],
            "image/png": "[encoded data removed]"
          },
          "metadata": {
            "needs_background": "light"
          }
        },
        {
          "output_type": "stream",
          "name": "stdout",
          "text": [
            "PREDICTION: 2\n",
            "LABEL FOR IMAGE: 2\n",
            "\n",
            "TEST: 15\n"
          ]
        },
        {
          "output_type": "display_data",
          "data": {
            "text/plain": [
              "<Figure size 432x288 with 1 Axes>"
            ],
            "image/png": "[encoded data removed]"
          },
          "metadata": {
            "needs_background": "light"
          }
        },
        {
          "output_type": "stream",
          "name": "stdout",
          "text": [
            "PREDICTION: 9\n",
            "LABEL FOR IMAGE: 9\n",
            "\n",
            "TEST: 16\n"
          ]
        },
        {
          "output_type": "display_data",
          "data": {
            "text/plain": [
              "<Figure size 432x288 with 1 Axes>"
            ],
            "image/png": "[encoded data removed]"
          },
          "metadata": {
            "needs_background": "light"
          }
        },
        {
          "output_type": "stream",
          "name": "stdout",
          "text": [
            "PREDICTION: 2\n",
            "LABEL FOR IMAGE: 2\n",
            "\n",
            "TEST: 17\n"
          ]
        },
        {
          "output_type": "display_data",
          "data": {
            "text/plain": [
              "<Figure size 432x288 with 1 Axes>"
            ],
            "image/png": "[encoded data removed]"
          },
          "metadata": {
            "needs_background": "light"
          }
        },
        {
          "output_type": "stream",
          "name": "stdout",
          "text": [
            "PREDICTION: 3\n",
            "LABEL FOR IMAGE: 3\n",
            "\n",
            "TEST: 18\n"
          ]
        },
        {
          "output_type": "display_data",
          "data": {
            "text/plain": [
              "<Figure size 432x288 with 1 Axes>"
            ],
            "image/png": "[encoded data removed]"
          },
          "metadata": {
            "needs_background": "light"
          }
        },
        {
          "output_type": "stream",
          "name": "stdout",
          "text": [
            "PREDICTION: 9\n",
            "LABEL FOR IMAGE: 7\n",
            "\n",
            "TEST: 19\n"
          ]
        },
        {
          "output_type": "display_data",
          "data": {
            "text/plain": [
              "<Figure size 432x288 with 1 Axes>"
            ],
            "image/png": "[encoded data removed]"
          },
          "metadata": {
            "needs_background": "light"
          }
        },
        {
          "output_type": "stream",
          "name": "stdout",
          "text": [
            "PREDICTION: 4\n",
            "LABEL FOR IMAGE: 4\n",
            "\n",
            "TEST: 20\n"
          ]
        },
        {
          "output_type": "display_data",
          "data": {
            "text/plain": [
              "<Figure size 432x288 with 1 Axes>"
            ],
            "image/png": "[encoded data removed]"
          },
          "metadata": {
            "needs_background": "light"
          }
        },
        {
          "output_type": "stream",
          "name": "stdout",
          "text": [
            "PREDICTION: 1\n",
            "LABEL FOR IMAGE: 1\n",
            "\n",
            "TEST: 21\n"
          ]
        },
        {
          "output_type": "display_data",
          "data": {
            "text/plain": [
              "<Figure size 432x288 with 1 Axes>"
            ],
            "image/png": "[encoded data removed]"
          },
          "metadata": {
            "needs_background": "light"
          }
        },
        {
          "output_type": "stream",
          "name": "stdout",
          "text": [
            "PREDICTION: 5\n",
            "LABEL FOR IMAGE: 5\n",
            "\n",
            "TEST: 22\n"
          ]
        },
        {
          "output_type": "display_data",
          "data": {
            "text/plain": [
              "<Figure size 432x288 with 1 Axes>"
            ],
            "image/png": "[encoded data removed]"
          },
          "metadata": {
            "needs_background": "light"
          }
        },
        {
          "output_type": "stream",
          "name": "stdout",
          "text": [
            "PREDICTION: 1\n",
            "LABEL FOR IMAGE: 1\n",
            "\n",
            "TEST: 23\n"
          ]
        },
        {
          "output_type": "display_data",
          "data": {
            "text/plain": [
              "<Figure size 432x288 with 1 Axes>"
            ],
            "image/png": "[encoded data removed]"
          },
          "metadata": {
            "needs_background": "light"
          }
        },
        {
          "output_type": "stream",
          "name": "stdout",
          "text": [
            "PREDICTION: 3\n",
            "LABEL FOR IMAGE: 3\n",
            "\n",
            "TEST: 24\n"
          ]
        },
        {
          "output_type": "display_data",
          "data": {
            "text/plain": [
              "<Figure size 432x288 with 1 Axes>"
            ],
            "image/png": "[encoded data removed]"
          },
          "metadata": {
            "needs_background": "light"
          }
        },
        {
          "output_type": "stream",
          "name": "stdout",
          "text": [
            "PREDICTION: 5\n",
            "LABEL FOR IMAGE: 5\n",
            "\n",
            "TEST: 25\n"
          ]
        },
        {
          "output_type": "display_data",
          "data": {
            "text/plain": [
              "<Figure size 432x288 with 1 Axes>"
            ],
            "image/png": "[encoded data removed]"
          },
          "metadata": {
            "needs_background": "light"
          }
        },
        {
          "output_type": "stream",
          "name": "stdout",
          "text": [
            "PREDICTION: 1\n",
            "LABEL FOR IMAGE: 1\n",
            "\n",
            "TEST: 26\n"
          ]
        },
        {
          "output_type": "display_data",
          "data": {
            "text/plain": [
              "<Figure size 432x288 with 1 Axes>"
            ],
            "image/png": "[encoded data removed]"
          },
          "metadata": {
            "needs_background": "light"
          }
        },
        {
          "output_type": "stream",
          "name": "stdout",
          "text": [
            "PREDICTION: 1\n",
            "LABEL FOR IMAGE: 1\n",
            "\n",
            "TEST: 27\n"
          ]
        },
        {
          "output_type": "display_data",
          "data": {
            "text/plain": [
              "<Figure size 432x288 with 1 Axes>"
            ],
            "image/png": "[encoded data removed]"
          },
          "metadata": {
            "needs_background": "light"
          }
        },
        {
          "output_type": "stream",
          "name": "stdout",
          "text": [
            "PREDICTION: 0\n",
            "LABEL FOR IMAGE: 0\n",
            "\n",
            "TEST: 28\n"
          ]
        },
        {
          "output_type": "display_data",
          "data": {
            "text/plain": [
              "<Figure size 432x288 with 1 Axes>"
            ],
            "image/png": "[encoded data removed]"
          },
          "metadata": {
            "needs_background": "light"
          }
        },
        {
          "output_type": "stream",
          "name": "stdout",
          "text": [
            "PREDICTION: 1\n",
            "LABEL FOR IMAGE: 1\n",
            "\n",
            "TEST: 29\n"
          ]
        },
        {
          "output_type": "display_data",
          "data": {
            "text/plain": [
              "<Figure size 432x288 with 1 Axes>"
            ],
            "image/png": "[encoded data removed]"
          },
          "metadata": {
            "needs_background": "light"
          }
        },
        {
          "output_type": "stream",
          "name": "stdout",
          "text": [
            "PREDICTION: 6\n",
            "LABEL FOR IMAGE: 6\n",
            "\n",
            "TEST: 30\n"
          ]
        },
        {
          "output_type": "display_data",
          "data": {
            "text/plain": [
              "<Figure size 432x288 with 1 Axes>"
            ],
            "image/png": "[encoded data removed]"
          },
          "metadata": {
            "needs_background": "light"
          }
        },
        {
          "output_type": "stream",
          "name": "stdout",
          "text": [
            "PREDICTION: 8\n",
            "LABEL FOR IMAGE: 8\n",
            "\n",
            "TEST: 31\n"
          ]
        },
        {
          "output_type": "display_data",
          "data": {
            "text/plain": [
              "<Figure size 432x288 with 1 Axes>"
            ],
            "image/png": "[encoded data removed]"
          },
          "metadata": {
            "needs_background": "light"
          }
        },
        {
          "output_type": "stream",
          "name": "stdout",
          "text": [
            "PREDICTION: 9\n",
            "LABEL FOR IMAGE: 9\n",
            "\n",
            "TEST: 32\n"
          ]
        },
        {
          "output_type": "display_data",
          "data": {
            "text/plain": [
              "<Figure size 432x288 with 1 Axes>"
            ],
            "image/png": "[encoded data removed]"
          },
          "metadata": {
            "needs_background": "light"
          }
        },
        {
          "output_type": "stream",
          "name": "stdout",
          "text": [
            "PREDICTION: 1\n",
            "LABEL FOR IMAGE: 1\n",
            "\n",
            "ACCURACY FOR BATCH 1: 96.875\n"
          ]
        }
      ],
      "source": [
        "import matplotlib.pyplot as plt\n",
        "\n",
        "k=0\n",
        "correct = 0\n",
        "total = 0\n",
        "\n",
        "for i, (images, labels) in enumerate(test_loader):\n",
        "  X_test = images.view(-1, 28*28)\n",
        "  y_test = labels\n",
        "\n",
        "  with torch.no_grad():\n",
        "    out = hypothesis(X_test)\n",
        "    values, pred = torch.max(out.data, 1)\n",
        "    correct += (pred == y_test).sum()\n",
        "    total += y_test.size(0) \n",
        "  \n",
        "  if i == 0:\n",
        "    for j in range(len(pred)):\n",
        "      k += 1\n",
        "\n",
        "      print('TEST:', k)\n",
        "      plt.imshow(images[j].reshape((28, 28)), cmap=\"gray\")\n",
        "      plt.pause(0.00001)  \n",
        "\n",
        "      print('PREDICTION:', pred[j].item())\n",
        "      print('LABEL FOR IMAGE:', y_test[j].item())\n",
        "      print()\n",
        "    print('ACCURACY FOR BATCH 1:', 100 * ((pred == y_test).sum()/y_test.size(0)).item())\n"
      ]
    },
    {
      "cell_type": "code",
      "execution_count": null,
      "metadata": {
        "colab": {
          "base_uri": "https://localhost:8080/"
        },
        "id": "fbPrPR0L4tdu",
        "outputId": "b90159ce-4bee-47ae-dcc4-82d904ef4b54"
      },
      "outputs": [
        {
          "output_type": "stream",
          "name": "stdout",
          "text": [
            "ACCURACY: 92.31\n"
          ]
        }
      ],
      "source": [
        "accuracy = 100 * correct.item() / total\n",
        "print('ACCURACY:', accuracy)\n"
      ]
    }
  ],
  "metadata": {
    "colab": {
      "collapsed_sections": [],
      "name": "Lab4_293884_Muhammad Ahmad.ipynb",
      "provenance": [],
      "include_colab_link": true
    },
    "kernelspec": {
      "display_name": "Python 3",
      "language": "python",
      "name": "python3"
    },
    "language_info": {
      "codemirror_mode": {
        "name": "ipython",
        "version": 3
      },
      "file_extension": ".py",
      "mimetype": "text/x-python",
      "name": "python",
      "nbconvert_exporter": "python",
      "pygments_lexer": "ipython3",
      "version": "3.5.0"
    },
    "accelerator": "GPU",
    "widgets": {
      "application/vnd.jupyter.widget-state+json": {
        "dfb934e0dd2947c0b451c3280995c249": {
          "model_module": "@jupyter-widgets/controls",
          "model_name": "HBoxModel",
          "model_module_version": "1.5.0",
          "state": {
            "_dom_classes": [],
            "_model_module": "@jupyter-widgets/controls",
            "_model_module_version": "1.5.0",
            "_model_name": "HBoxModel",
            "_view_count": null,
            "_view_module": "@jupyter-widgets/controls",
            "_view_module_version": "1.5.0",
            "_view_name": "HBoxView",
            "box_style": "",
            "children": [
              "IPY_MODEL_57d24ef310b94fa7b234ac0a40825cd0",
              "IPY_MODEL_2bf1019980f644c9b16cbc97b27ff3e5",
              "IPY_MODEL_68e3ab6c29ee485eb63a66a12e02b7a7"
            ],
            "layout": "IPY_MODEL_c94a75564b80443993304cce258fe4b2"
          }
        },
        "57d24ef310b94fa7b234ac0a40825cd0": {
          "model_module": "@jupyter-widgets/controls",
          "model_name": "HTMLModel",
          "model_module_version": "1.5.0",
          "state": {
            "_dom_classes": [],
            "_model_module": "@jupyter-widgets/controls",
            "_model_module_version": "1.5.0",
            "_model_name": "HTMLModel",
            "_view_count": null,
            "_view_module": "@jupyter-widgets/controls",
            "_view_module_version": "1.5.0",
            "_view_name": "HTMLView",
            "description": "",
            "description_tooltip": null,
            "layout": "IPY_MODEL_0806ee28835644a29a28611acd18ef69",
            "placeholder": "​",
            "style": "IPY_MODEL_19798666441744ce8f867c5a03f4c31b",
            "value": ""
          }
        },
        "2bf1019980f644c9b16cbc97b27ff3e5": {
          "model_module": "@jupyter-widgets/controls",
          "model_name": "FloatProgressModel",
          "model_module_version": "1.5.0",
          "state": {
            "_dom_classes": [],
            "_model_module": "@jupyter-widgets/controls",
            "_model_module_version": "1.5.0",
            "_model_name": "FloatProgressModel",
            "_view_count": null,
            "_view_module": "@jupyter-widgets/controls",
            "_view_module_version": "1.5.0",
            "_view_name": "ProgressView",
            "bar_style": "success",
            "description": "",
            "description_tooltip": null,
            "layout": "IPY_MODEL_37a97eb76d7a4befa188fa3c18e4dc61",
            "max": 9912422,
            "min": 0,
            "orientation": "horizontal",
            "style": "IPY_MODEL_90997fb637af499fbd15b9ab9d8d5859",
            "value": 9912422
          }
        },
        "68e3ab6c29ee485eb63a66a12e02b7a7": {
          "model_module": "@jupyter-widgets/controls",
          "model_name": "HTMLModel",
          "model_module_version": "1.5.0",
          "state": {
            "_dom_classes": [],
            "_model_module": "@jupyter-widgets/controls",
            "_model_module_version": "1.5.0",
            "_model_name": "HTMLModel",
            "_view_count": null,
            "_view_module": "@jupyter-widgets/controls",
            "_view_module_version": "1.5.0",
            "_view_name": "HTMLView",
            "description": "",
            "description_tooltip": null,
            "layout": "IPY_MODEL_de096d48f2c84e4fba16d7eab44dacc1",
            "placeholder": "​",
            "style": "IPY_MODEL_2fd0cc374a0d4626862f12d41ae664bc",
            "value": " 9913344/? [00:00&lt;00:00, 51658103.29it/s]"
          }
        },
        "c94a75564b80443993304cce258fe4b2": {
          "model_module": "@jupyter-widgets/base",
          "model_name": "LayoutModel",
          "model_module_version": "1.2.0",
          "state": {
            "_model_module": "@jupyter-widgets/base",
            "_model_module_version": "1.2.0",
            "_model_name": "LayoutModel",
            "_view_count": null,
            "_view_module": "@jupyter-widgets/base",
            "_view_module_version": "1.2.0",
            "_view_name": "LayoutView",
            "align_content": null,
            "align_items": null,
            "align_self": null,
            "border": null,
            "bottom": null,
            "display": null,
            "flex": null,
            "flex_flow": null,
            "grid_area": null,
            "grid_auto_columns": null,
            "grid_auto_flow": null,
            "grid_auto_rows": null,
            "grid_column": null,
            "grid_gap": null,
            "grid_row": null,
            "grid_template_areas": null,
            "grid_template_columns": null,
            "grid_template_rows": null,
            "height": null,
            "justify_content": null,
            "justify_items": null,
            "left": null,
            "margin": null,
            "max_height": null,
            "max_width": null,
            "min_height": null,
            "min_width": null,
            "object_fit": null,
            "object_position": null,
            "order": null,
            "overflow": null,
            "overflow_x": null,
            "overflow_y": null,
            "padding": null,
            "right": null,
            "top": null,
            "visibility": null,
            "width": null
          }
        },
        "0806ee28835644a29a28611acd18ef69": {
          "model_module": "@jupyter-widgets/base",
          "model_name": "LayoutModel",
          "model_module_version": "1.2.0",
          "state": {
            "_model_module": "@jupyter-widgets/base",
            "_model_module_version": "1.2.0",
            "_model_name": "LayoutModel",
            "_view_count": null,
            "_view_module": "@jupyter-widgets/base",
            "_view_module_version": "1.2.0",
            "_view_name": "LayoutView",
            "align_content": null,
            "align_items": null,
            "align_self": null,
            "border": null,
            "bottom": null,
            "display": null,
            "flex": null,
            "flex_flow": null,
            "grid_area": null,
            "grid_auto_columns": null,
            "grid_auto_flow": null,
            "grid_auto_rows": null,
            "grid_column": null,
            "grid_gap": null,
            "grid_row": null,
            "grid_template_areas": null,
            "grid_template_columns": null,
            "grid_template_rows": null,
            "height": null,
            "justify_content": null,
            "justify_items": null,
            "left": null,
            "margin": null,
            "max_height": null,
            "max_width": null,
            "min_height": null,
            "min_width": null,
            "object_fit": null,
            "object_position": null,
            "order": null,
            "overflow": null,
            "overflow_x": null,
            "overflow_y": null,
            "padding": null,
            "right": null,
            "top": null,
            "visibility": null,
            "width": null
          }
        },
        "19798666441744ce8f867c5a03f4c31b": {
          "model_module": "@jupyter-widgets/controls",
          "model_name": "DescriptionStyleModel",
          "model_module_version": "1.5.0",
          "state": {
            "_model_module": "@jupyter-widgets/controls",
            "_model_module_version": "1.5.0",
            "_model_name": "DescriptionStyleModel",
            "_view_count": null,
            "_view_module": "@jupyter-widgets/base",
            "_view_module_version": "1.2.0",
            "_view_name": "StyleView",
            "description_width": ""
          }
        },
        "37a97eb76d7a4befa188fa3c18e4dc61": {
          "model_module": "@jupyter-widgets/base",
          "model_name": "LayoutModel",
          "model_module_version": "1.2.0",
          "state": {
            "_model_module": "@jupyter-widgets/base",
            "_model_module_version": "1.2.0",
            "_model_name": "LayoutModel",
            "_view_count": null,
            "_view_module": "@jupyter-widgets/base",
            "_view_module_version": "1.2.0",
            "_view_name": "LayoutView",
            "align_content": null,
            "align_items": null,
            "align_self": null,
            "border": null,
            "bottom": null,
            "display": null,
            "flex": null,
            "flex_flow": null,
            "grid_area": null,
            "grid_auto_columns": null,
            "grid_auto_flow": null,
            "grid_auto_rows": null,
            "grid_column": null,
            "grid_gap": null,
            "grid_row": null,
            "grid_template_areas": null,
            "grid_template_columns": null,
            "grid_template_rows": null,
            "height": null,
            "justify_content": null,
            "justify_items": null,
            "left": null,
            "margin": null,
            "max_height": null,
            "max_width": null,
            "min_height": null,
            "min_width": null,
            "object_fit": null,
            "object_position": null,
            "order": null,
            "overflow": null,
            "overflow_x": null,
            "overflow_y": null,
            "padding": null,
            "right": null,
            "top": null,
            "visibility": null,
            "width": null
          }
        },
        "90997fb637af499fbd15b9ab9d8d5859": {
          "model_module": "@jupyter-widgets/controls",
          "model_name": "ProgressStyleModel",
          "model_module_version": "1.5.0",
          "state": {
            "_model_module": "@jupyter-widgets/controls",
            "_model_module_version": "1.5.0",
            "_model_name": "ProgressStyleModel",
            "_view_count": null,
            "_view_module": "@jupyter-widgets/base",
            "_view_module_version": "1.2.0",
            "_view_name": "StyleView",
            "bar_color": null,
            "description_width": ""
          }
        },
        "de096d48f2c84e4fba16d7eab44dacc1": {
          "model_module": "@jupyter-widgets/base",
          "model_name": "LayoutModel",
          "model_module_version": "1.2.0",
          "state": {
            "_model_module": "@jupyter-widgets/base",
            "_model_module_version": "1.2.0",
            "_model_name": "LayoutModel",
            "_view_count": null,
            "_view_module": "@jupyter-widgets/base",
            "_view_module_version": "1.2.0",
            "_view_name": "LayoutView",
            "align_content": null,
            "align_items": null,
            "align_self": null,
            "border": null,
            "bottom": null,
            "display": null,
            "flex": null,
            "flex_flow": null,
            "grid_area": null,
            "grid_auto_columns": null,
            "grid_auto_flow": null,
            "grid_auto_rows": null,
            "grid_column": null,
            "grid_gap": null,
            "grid_row": null,
            "grid_template_areas": null,
            "grid_template_columns": null,
            "grid_template_rows": null,
            "height": null,
            "justify_content": null,
            "justify_items": null,
            "left": null,
            "margin": null,
            "max_height": null,
            "max_width": null,
            "min_height": null,
            "min_width": null,
            "object_fit": null,
            "object_position": null,
            "order": null,
            "overflow": null,
            "overflow_x": null,
            "overflow_y": null,
            "padding": null,
            "right": null,
            "top": null,
            "visibility": null,
            "width": null
          }
        },
        "2fd0cc374a0d4626862f12d41ae664bc": {
          "model_module": "@jupyter-widgets/controls",
          "model_name": "DescriptionStyleModel",
          "model_module_version": "1.5.0",
          "state": {
            "_model_module": "@jupyter-widgets/controls",
            "_model_module_version": "1.5.0",
            "_model_name": "DescriptionStyleModel",
            "_view_count": null,
            "_view_module": "@jupyter-widgets/base",
            "_view_module_version": "1.2.0",
            "_view_name": "StyleView",
            "description_width": ""
          }
        },
        "87c3a760154b4a679f8169f170925d3c": {
          "model_module": "@jupyter-widgets/controls",
          "model_name": "HBoxModel",
          "model_module_version": "1.5.0",
          "state": {
            "_dom_classes": [],
            "_model_module": "@jupyter-widgets/controls",
            "_model_module_version": "1.5.0",
            "_model_name": "HBoxModel",
            "_view_count": null,
            "_view_module": "@jupyter-widgets/controls",
            "_view_module_version": "1.5.0",
            "_view_name": "HBoxView",
            "box_style": "",
            "children": [
              "IPY_MODEL_799f0eba89c34285ab0dd8276dd6f58d",
              "IPY_MODEL_e6b552ce0ed547c0ab040ed213da989b",
              "IPY_MODEL_cc36312e74724e9a91fbae212e6eda05"
            ],
            "layout": "IPY_MODEL_63d595030c1e4be9946e74ff44340e40"
          }
        },
        "799f0eba89c34285ab0dd8276dd6f58d": {
          "model_module": "@jupyter-widgets/controls",
          "model_name": "HTMLModel",
          "model_module_version": "1.5.0",
          "state": {
            "_dom_classes": [],
            "_model_module": "@jupyter-widgets/controls",
            "_model_module_version": "1.5.0",
            "_model_name": "HTMLModel",
            "_view_count": null,
            "_view_module": "@jupyter-widgets/controls",
            "_view_module_version": "1.5.0",
            "_view_name": "HTMLView",
            "description": "",
            "description_tooltip": null,
            "layout": "IPY_MODEL_f26002003dd04dbbbfa87e7f77f9181a",
            "placeholder": "​",
            "style": "IPY_MODEL_cf25b286e68a46ec9114f65d66a420dd",
            "value": ""
          }
        },
        "e6b552ce0ed547c0ab040ed213da989b": {
          "model_module": "@jupyter-widgets/controls",
          "model_name": "FloatProgressModel",
          "model_module_version": "1.5.0",
          "state": {
            "_dom_classes": [],
            "_model_module": "@jupyter-widgets/controls",
            "_model_module_version": "1.5.0",
            "_model_name": "FloatProgressModel",
            "_view_count": null,
            "_view_module": "@jupyter-widgets/controls",
            "_view_module_version": "1.5.0",
            "_view_name": "ProgressView",
            "bar_style": "success",
            "description": "",
            "description_tooltip": null,
            "layout": "IPY_MODEL_f080e8e79bf0495dae78ec06f02bafd3",
            "max": 28881,
            "min": 0,
            "orientation": "horizontal",
            "style": "IPY_MODEL_8c99b6651d704443ba75cd268d01a3cf",
            "value": 28881
          }
        },
        "cc36312e74724e9a91fbae212e6eda05": {
          "model_module": "@jupyter-widgets/controls",
          "model_name": "HTMLModel",
          "model_module_version": "1.5.0",
          "state": {
            "_dom_classes": [],
            "_model_module": "@jupyter-widgets/controls",
            "_model_module_version": "1.5.0",
            "_model_name": "HTMLModel",
            "_view_count": null,
            "_view_module": "@jupyter-widgets/controls",
            "_view_module_version": "1.5.0",
            "_view_name": "HTMLView",
            "description": "",
            "description_tooltip": null,
            "layout": "IPY_MODEL_72844ae2a7194663b258baae276a647e",
            "placeholder": "​",
            "style": "IPY_MODEL_ebd3abdf32d04919be6c61a1b49f8cbf",
            "value": " 29696/? [00:00&lt;00:00, 769617.04it/s]"
          }
        },
        "63d595030c1e4be9946e74ff44340e40": {
          "model_module": "@jupyter-widgets/base",
          "model_name": "LayoutModel",
          "model_module_version": "1.2.0",
          "state": {
            "_model_module": "@jupyter-widgets/base",
            "_model_module_version": "1.2.0",
            "_model_name": "LayoutModel",
            "_view_count": null,
            "_view_module": "@jupyter-widgets/base",
            "_view_module_version": "1.2.0",
            "_view_name": "LayoutView",
            "align_content": null,
            "align_items": null,
            "align_self": null,
            "border": null,
            "bottom": null,
            "display": null,
            "flex": null,
            "flex_flow": null,
            "grid_area": null,
            "grid_auto_columns": null,
            "grid_auto_flow": null,
            "grid_auto_rows": null,
            "grid_column": null,
            "grid_gap": null,
            "grid_row": null,
            "grid_template_areas": null,
            "grid_template_columns": null,
            "grid_template_rows": null,
            "height": null,
            "justify_content": null,
            "justify_items": null,
            "left": null,
            "margin": null,
            "max_height": null,
            "max_width": null,
            "min_height": null,
            "min_width": null,
            "object_fit": null,
            "object_position": null,
            "order": null,
            "overflow": null,
            "overflow_x": null,
            "overflow_y": null,
            "padding": null,
            "right": null,
            "top": null,
            "visibility": null,
            "width": null
          }
        },
        "f26002003dd04dbbbfa87e7f77f9181a": {
          "model_module": "@jupyter-widgets/base",
          "model_name": "LayoutModel",
          "model_module_version": "1.2.0",
          "state": {
            "_model_module": "@jupyter-widgets/base",
            "_model_module_version": "1.2.0",
            "_model_name": "LayoutModel",
            "_view_count": null,
            "_view_module": "@jupyter-widgets/base",
            "_view_module_version": "1.2.0",
            "_view_name": "LayoutView",
            "align_content": null,
            "align_items": null,
            "align_self": null,
            "border": null,
            "bottom": null,
            "display": null,
            "flex": null,
            "flex_flow": null,
            "grid_area": null,
            "grid_auto_columns": null,
            "grid_auto_flow": null,
            "grid_auto_rows": null,
            "grid_column": null,
            "grid_gap": null,
            "grid_row": null,
            "grid_template_areas": null,
            "grid_template_columns": null,
            "grid_template_rows": null,
            "height": null,
            "justify_content": null,
            "justify_items": null,
            "left": null,
            "margin": null,
            "max_height": null,
            "max_width": null,
            "min_height": null,
            "min_width": null,
            "object_fit": null,
            "object_position": null,
            "order": null,
            "overflow": null,
            "overflow_x": null,
            "overflow_y": null,
            "padding": null,
            "right": null,
            "top": null,
            "visibility": null,
            "width": null
          }
        },
        "cf25b286e68a46ec9114f65d66a420dd": {
          "model_module": "@jupyter-widgets/controls",
          "model_name": "DescriptionStyleModel",
          "model_module_version": "1.5.0",
          "state": {
            "_model_module": "@jupyter-widgets/controls",
            "_model_module_version": "1.5.0",
            "_model_name": "DescriptionStyleModel",
            "_view_count": null,
            "_view_module": "@jupyter-widgets/base",
            "_view_module_version": "1.2.0",
            "_view_name": "StyleView",
            "description_width": ""
          }
        },
        "f080e8e79bf0495dae78ec06f02bafd3": {
          "model_module": "@jupyter-widgets/base",
          "model_name": "LayoutModel",
          "model_module_version": "1.2.0",
          "state": {
            "_model_module": "@jupyter-widgets/base",
            "_model_module_version": "1.2.0",
            "_model_name": "LayoutModel",
            "_view_count": null,
            "_view_module": "@jupyter-widgets/base",
            "_view_module_version": "1.2.0",
            "_view_name": "LayoutView",
            "align_content": null,
            "align_items": null,
            "align_self": null,
            "border": null,
            "bottom": null,
            "display": null,
            "flex": null,
            "flex_flow": null,
            "grid_area": null,
            "grid_auto_columns": null,
            "grid_auto_flow": null,
            "grid_auto_rows": null,
            "grid_column": null,
            "grid_gap": null,
            "grid_row": null,
            "grid_template_areas": null,
            "grid_template_columns": null,
            "grid_template_rows": null,
            "height": null,
            "justify_content": null,
            "justify_items": null,
            "left": null,
            "margin": null,
            "max_height": null,
            "max_width": null,
            "min_height": null,
            "min_width": null,
            "object_fit": null,
            "object_position": null,
            "order": null,
            "overflow": null,
            "overflow_x": null,
            "overflow_y": null,
            "padding": null,
            "right": null,
            "top": null,
            "visibility": null,
            "width": null
          }
        },
        "8c99b6651d704443ba75cd268d01a3cf": {
          "model_module": "@jupyter-widgets/controls",
          "model_name": "ProgressStyleModel",
          "model_module_version": "1.5.0",
          "state": {
            "_model_module": "@jupyter-widgets/controls",
            "_model_module_version": "1.5.0",
            "_model_name": "ProgressStyleModel",
            "_view_count": null,
            "_view_module": "@jupyter-widgets/base",
            "_view_module_version": "1.2.0",
            "_view_name": "StyleView",
            "bar_color": null,
            "description_width": ""
          }
        },
        "72844ae2a7194663b258baae276a647e": {
          "model_module": "@jupyter-widgets/base",
          "model_name": "LayoutModel",
          "model_module_version": "1.2.0",
          "state": {
            "_model_module": "@jupyter-widgets/base",
            "_model_module_version": "1.2.0",
            "_model_name": "LayoutModel",
            "_view_count": null,
            "_view_module": "@jupyter-widgets/base",
            "_view_module_version": "1.2.0",
            "_view_name": "LayoutView",
            "align_content": null,
            "align_items": null,
            "align_self": null,
            "border": null,
            "bottom": null,
            "display": null,
            "flex": null,
            "flex_flow": null,
            "grid_area": null,
            "grid_auto_columns": null,
            "grid_auto_flow": null,
            "grid_auto_rows": null,
            "grid_column": null,
            "grid_gap": null,
            "grid_row": null,
            "grid_template_areas": null,
            "grid_template_columns": null,
            "grid_template_rows": null,
            "height": null,
            "justify_content": null,
            "justify_items": null,
            "left": null,
            "margin": null,
            "max_height": null,
            "max_width": null,
            "min_height": null,
            "min_width": null,
            "object_fit": null,
            "object_position": null,
            "order": null,
            "overflow": null,
            "overflow_x": null,
            "overflow_y": null,
            "padding": null,
            "right": null,
            "top": null,
            "visibility": null,
            "width": null
          }
        },
        "ebd3abdf32d04919be6c61a1b49f8cbf": {
          "model_module": "@jupyter-widgets/controls",
          "model_name": "DescriptionStyleModel",
          "model_module_version": "1.5.0",
          "state": {
            "_model_module": "@jupyter-widgets/controls",
            "_model_module_version": "1.5.0",
            "_model_name": "DescriptionStyleModel",
            "_view_count": null,
            "_view_module": "@jupyter-widgets/base",
            "_view_module_version": "1.2.0",
            "_view_name": "StyleView",
            "description_width": ""
          }
        },
        "ba97caaa0fbb4b0e8df45e61e3e7b3fb": {
          "model_module": "@jupyter-widgets/controls",
          "model_name": "HBoxModel",
          "model_module_version": "1.5.0",
          "state": {
            "_dom_classes": [],
            "_model_module": "@jupyter-widgets/controls",
            "_model_module_version": "1.5.0",
            "_model_name": "HBoxModel",
            "_view_count": null,
            "_view_module": "@jupyter-widgets/controls",
            "_view_module_version": "1.5.0",
            "_view_name": "HBoxView",
            "box_style": "",
            "children": [
              "IPY_MODEL_3640684b581243068e2c38e92beefe68",
              "IPY_MODEL_762111d0c6c540cca3131238e89319ef",
              "IPY_MODEL_14813304d7904bb885e1e2b48dd48ddb"
            ],
            "layout": "IPY_MODEL_ba13c3d677594353ad3028979fc10215"
          }
        },
        "3640684b581243068e2c38e92beefe68": {
          "model_module": "@jupyter-widgets/controls",
          "model_name": "HTMLModel",
          "model_module_version": "1.5.0",
          "state": {
            "_dom_classes": [],
            "_model_module": "@jupyter-widgets/controls",
            "_model_module_version": "1.5.0",
            "_model_name": "HTMLModel",
            "_view_count": null,
            "_view_module": "@jupyter-widgets/controls",
            "_view_module_version": "1.5.0",
            "_view_name": "HTMLView",
            "description": "",
            "description_tooltip": null,
            "layout": "IPY_MODEL_61175fa795e94751a19846a07550a793",
            "placeholder": "​",
            "style": "IPY_MODEL_ad4722bfda4443af9b4388ce1fcc4feb",
            "value": ""
          }
        },
        "762111d0c6c540cca3131238e89319ef": {
          "model_module": "@jupyter-widgets/controls",
          "model_name": "FloatProgressModel",
          "model_module_version": "1.5.0",
          "state": {
            "_dom_classes": [],
            "_model_module": "@jupyter-widgets/controls",
            "_model_module_version": "1.5.0",
            "_model_name": "FloatProgressModel",
            "_view_count": null,
            "_view_module": "@jupyter-widgets/controls",
            "_view_module_version": "1.5.0",
            "_view_name": "ProgressView",
            "bar_style": "success",
            "description": "",
            "description_tooltip": null,
            "layout": "IPY_MODEL_52a48444fdc64b558e3cdc0c1ba7cc59",
            "max": 1648877,
            "min": 0,
            "orientation": "horizontal",
            "style": "IPY_MODEL_0c166183676f466dae7f4048feeec332",
            "value": 1648877
          }
        },
        "14813304d7904bb885e1e2b48dd48ddb": {
          "model_module": "@jupyter-widgets/controls",
          "model_name": "HTMLModel",
          "model_module_version": "1.5.0",
          "state": {
            "_dom_classes": [],
            "_model_module": "@jupyter-widgets/controls",
            "_model_module_version": "1.5.0",
            "_model_name": "HTMLModel",
            "_view_count": null,
            "_view_module": "@jupyter-widgets/controls",
            "_view_module_version": "1.5.0",
            "_view_name": "HTMLView",
            "description": "",
            "description_tooltip": null,
            "layout": "IPY_MODEL_c04be2b0c8ef4b4d825f168f265c77bf",
            "placeholder": "​",
            "style": "IPY_MODEL_9ce31c58244745fe8ced5e6605fb7f7a",
            "value": " 1649664/? [00:00&lt;00:00, 18709925.30it/s]"
          }
        },
        "ba13c3d677594353ad3028979fc10215": {
          "model_module": "@jupyter-widgets/base",
          "model_name": "LayoutModel",
          "model_module_version": "1.2.0",
          "state": {
            "_model_module": "@jupyter-widgets/base",
            "_model_module_version": "1.2.0",
            "_model_name": "LayoutModel",
            "_view_count": null,
            "_view_module": "@jupyter-widgets/base",
            "_view_module_version": "1.2.0",
            "_view_name": "LayoutView",
            "align_content": null,
            "align_items": null,
            "align_self": null,
            "border": null,
            "bottom": null,
            "display": null,
            "flex": null,
            "flex_flow": null,
            "grid_area": null,
            "grid_auto_columns": null,
            "grid_auto_flow": null,
            "grid_auto_rows": null,
            "grid_column": null,
            "grid_gap": null,
            "grid_row": null,
            "grid_template_areas": null,
            "grid_template_columns": null,
            "grid_template_rows": null,
            "height": null,
            "justify_content": null,
            "justify_items": null,
            "left": null,
            "margin": null,
            "max_height": null,
            "max_width": null,
            "min_height": null,
            "min_width": null,
            "object_fit": null,
            "object_position": null,
            "order": null,
            "overflow": null,
            "overflow_x": null,
            "overflow_y": null,
            "padding": null,
            "right": null,
            "top": null,
            "visibility": null,
            "width": null
          }
        },
        "61175fa795e94751a19846a07550a793": {
          "model_module": "@jupyter-widgets/base",
          "model_name": "LayoutModel",
          "model_module_version": "1.2.0",
          "state": {
            "_model_module": "@jupyter-widgets/base",
            "_model_module_version": "1.2.0",
            "_model_name": "LayoutModel",
            "_view_count": null,
            "_view_module": "@jupyter-widgets/base",
            "_view_module_version": "1.2.0",
            "_view_name": "LayoutView",
            "align_content": null,
            "align_items": null,
            "align_self": null,
            "border": null,
            "bottom": null,
            "display": null,
            "flex": null,
            "flex_flow": null,
            "grid_area": null,
            "grid_auto_columns": null,
            "grid_auto_flow": null,
            "grid_auto_rows": null,
            "grid_column": null,
            "grid_gap": null,
            "grid_row": null,
            "grid_template_areas": null,
            "grid_template_columns": null,
            "grid_template_rows": null,
            "height": null,
            "justify_content": null,
            "justify_items": null,
            "left": null,
            "margin": null,
            "max_height": null,
            "max_width": null,
            "min_height": null,
            "min_width": null,
            "object_fit": null,
            "object_position": null,
            "order": null,
            "overflow": null,
            "overflow_x": null,
            "overflow_y": null,
            "padding": null,
            "right": null,
            "top": null,
            "visibility": null,
            "width": null
          }
        },
        "ad4722bfda4443af9b4388ce1fcc4feb": {
          "model_module": "@jupyter-widgets/controls",
          "model_name": "DescriptionStyleModel",
          "model_module_version": "1.5.0",
          "state": {
            "_model_module": "@jupyter-widgets/controls",
            "_model_module_version": "1.5.0",
            "_model_name": "DescriptionStyleModel",
            "_view_count": null,
            "_view_module": "@jupyter-widgets/base",
            "_view_module_version": "1.2.0",
            "_view_name": "StyleView",
            "description_width": ""
          }
        },
        "52a48444fdc64b558e3cdc0c1ba7cc59": {
          "model_module": "@jupyter-widgets/base",
          "model_name": "LayoutModel",
          "model_module_version": "1.2.0",
          "state": {
            "_model_module": "@jupyter-widgets/base",
            "_model_module_version": "1.2.0",
            "_model_name": "LayoutModel",
            "_view_count": null,
            "_view_module": "@jupyter-widgets/base",
            "_view_module_version": "1.2.0",
            "_view_name": "LayoutView",
            "align_content": null,
            "align_items": null,
            "align_self": null,
            "border": null,
            "bottom": null,
            "display": null,
            "flex": null,
            "flex_flow": null,
            "grid_area": null,
            "grid_auto_columns": null,
            "grid_auto_flow": null,
            "grid_auto_rows": null,
            "grid_column": null,
            "grid_gap": null,
            "grid_row": null,
            "grid_template_areas": null,
            "grid_template_columns": null,
            "grid_template_rows": null,
            "height": null,
            "justify_content": null,
            "justify_items": null,
            "left": null,
            "margin": null,
            "max_height": null,
            "max_width": null,
            "min_height": null,
            "min_width": null,
            "object_fit": null,
            "object_position": null,
            "order": null,
            "overflow": null,
            "overflow_x": null,
            "overflow_y": null,
            "padding": null,
            "right": null,
            "top": null,
            "visibility": null,
            "width": null
          }
        },
        "0c166183676f466dae7f4048feeec332": {
          "model_module": "@jupyter-widgets/controls",
          "model_name": "ProgressStyleModel",
          "model_module_version": "1.5.0",
          "state": {
            "_model_module": "@jupyter-widgets/controls",
            "_model_module_version": "1.5.0",
            "_model_name": "ProgressStyleModel",
            "_view_count": null,
            "_view_module": "@jupyter-widgets/base",
            "_view_module_version": "1.2.0",
            "_view_name": "StyleView",
            "bar_color": null,
            "description_width": ""
          }
        },
        "c04be2b0c8ef4b4d825f168f265c77bf": {
          "model_module": "@jupyter-widgets/base",
          "model_name": "LayoutModel",
          "model_module_version": "1.2.0",
          "state": {
            "_model_module": "@jupyter-widgets/base",
            "_model_module_version": "1.2.0",
            "_model_name": "LayoutModel",
            "_view_count": null,
            "_view_module": "@jupyter-widgets/base",
            "_view_module_version": "1.2.0",
            "_view_name": "LayoutView",
            "align_content": null,
            "align_items": null,
            "align_self": null,
            "border": null,
            "bottom": null,
            "display": null,
            "flex": null,
            "flex_flow": null,
            "grid_area": null,
            "grid_auto_columns": null,
            "grid_auto_flow": null,
            "grid_auto_rows": null,
            "grid_column": null,
            "grid_gap": null,
            "grid_row": null,
            "grid_template_areas": null,
            "grid_template_columns": null,
            "grid_template_rows": null,
            "height": null,
            "justify_content": null,
            "justify_items": null,
            "left": null,
            "margin": null,
            "max_height": null,
            "max_width": null,
            "min_height": null,
            "min_width": null,
            "object_fit": null,
            "object_position": null,
            "order": null,
            "overflow": null,
            "overflow_x": null,
            "overflow_y": null,
            "padding": null,
            "right": null,
            "top": null,
            "visibility": null,
            "width": null
          }
        },
        "9ce31c58244745fe8ced5e6605fb7f7a": {
          "model_module": "@jupyter-widgets/controls",
          "model_name": "DescriptionStyleModel",
          "model_module_version": "1.5.0",
          "state": {
            "_model_module": "@jupyter-widgets/controls",
            "_model_module_version": "1.5.0",
            "_model_name": "DescriptionStyleModel",
            "_view_count": null,
            "_view_module": "@jupyter-widgets/base",
            "_view_module_version": "1.2.0",
            "_view_name": "StyleView",
            "description_width": ""
          }
        },
        "2d9b1e015161426d8f6fc8928d062e05": {
          "model_module": "@jupyter-widgets/controls",
          "model_name": "HBoxModel",
          "model_module_version": "1.5.0",
          "state": {
            "_dom_classes": [],
            "_model_module": "@jupyter-widgets/controls",
            "_model_module_version": "1.5.0",
            "_model_name": "HBoxModel",
            "_view_count": null,
            "_view_module": "@jupyter-widgets/controls",
            "_view_module_version": "1.5.0",
            "_view_name": "HBoxView",
            "box_style": "",
            "children": [
              "IPY_MODEL_232b52c073fe453eb0b97e549e6c7036",
              "IPY_MODEL_ff1aef29c0164723acb2404cdadc45b8",
              "IPY_MODEL_4491175845b14105893c0d662da6c85e"
            ],
            "layout": "IPY_MODEL_0dc05c417b094baea532873a1bf5a3ae"
          }
        },
        "232b52c073fe453eb0b97e549e6c7036": {
          "model_module": "@jupyter-widgets/controls",
          "model_name": "HTMLModel",
          "model_module_version": "1.5.0",
          "state": {
            "_dom_classes": [],
            "_model_module": "@jupyter-widgets/controls",
            "_model_module_version": "1.5.0",
            "_model_name": "HTMLModel",
            "_view_count": null,
            "_view_module": "@jupyter-widgets/controls",
            "_view_module_version": "1.5.0",
            "_view_name": "HTMLView",
            "description": "",
            "description_tooltip": null,
            "layout": "IPY_MODEL_cde927f3b44b44f0a759c7944be70055",
            "placeholder": "​",
            "style": "IPY_MODEL_50ab99ae7d674514adb10eef4ec6770f",
            "value": ""
          }
        },
        "ff1aef29c0164723acb2404cdadc45b8": {
          "model_module": "@jupyter-widgets/controls",
          "model_name": "FloatProgressModel",
          "model_module_version": "1.5.0",
          "state": {
            "_dom_classes": [],
            "_model_module": "@jupyter-widgets/controls",
            "_model_module_version": "1.5.0",
            "_model_name": "FloatProgressModel",
            "_view_count": null,
            "_view_module": "@jupyter-widgets/controls",
            "_view_module_version": "1.5.0",
            "_view_name": "ProgressView",
            "bar_style": "success",
            "description": "",
            "description_tooltip": null,
            "layout": "IPY_MODEL_7439d843cb594482a977f2e3b724f411",
            "max": 4542,
            "min": 0,
            "orientation": "horizontal",
            "style": "IPY_MODEL_c4c3bd9094064645b9cd28e4f99ece24",
            "value": 4542
          }
        },
        "4491175845b14105893c0d662da6c85e": {
          "model_module": "@jupyter-widgets/controls",
          "model_name": "HTMLModel",
          "model_module_version": "1.5.0",
          "state": {
            "_dom_classes": [],
            "_model_module": "@jupyter-widgets/controls",
            "_model_module_version": "1.5.0",
            "_model_name": "HTMLModel",
            "_view_count": null,
            "_view_module": "@jupyter-widgets/controls",
            "_view_module_version": "1.5.0",
            "_view_name": "HTMLView",
            "description": "",
            "description_tooltip": null,
            "layout": "IPY_MODEL_8c1980aaa4674b3697913c7bc109c3a0",
            "placeholder": "​",
            "style": "IPY_MODEL_f301a3c5df5446acaca607a5c53a73fd",
            "value": " 5120/? [00:00&lt;00:00, 168124.17it/s]"
          }
        },
        "0dc05c417b094baea532873a1bf5a3ae": {
          "model_module": "@jupyter-widgets/base",
          "model_name": "LayoutModel",
          "model_module_version": "1.2.0",
          "state": {
            "_model_module": "@jupyter-widgets/base",
            "_model_module_version": "1.2.0",
            "_model_name": "LayoutModel",
            "_view_count": null,
            "_view_module": "@jupyter-widgets/base",
            "_view_module_version": "1.2.0",
            "_view_name": "LayoutView",
            "align_content": null,
            "align_items": null,
            "align_self": null,
            "border": null,
            "bottom": null,
            "display": null,
            "flex": null,
            "flex_flow": null,
            "grid_area": null,
            "grid_auto_columns": null,
            "grid_auto_flow": null,
            "grid_auto_rows": null,
            "grid_column": null,
            "grid_gap": null,
            "grid_row": null,
            "grid_template_areas": null,
            "grid_template_columns": null,
            "grid_template_rows": null,
            "height": null,
            "justify_content": null,
            "justify_items": null,
            "left": null,
            "margin": null,
            "max_height": null,
            "max_width": null,
            "min_height": null,
            "min_width": null,
            "object_fit": null,
            "object_position": null,
            "order": null,
            "overflow": null,
            "overflow_x": null,
            "overflow_y": null,
            "padding": null,
            "right": null,
            "top": null,
            "visibility": null,
            "width": null
          }
        },
        "cde927f3b44b44f0a759c7944be70055": {
          "model_module": "@jupyter-widgets/base",
          "model_name": "LayoutModel",
          "model_module_version": "1.2.0",
          "state": {
            "_model_module": "@jupyter-widgets/base",
            "_model_module_version": "1.2.0",
            "_model_name": "LayoutModel",
            "_view_count": null,
            "_view_module": "@jupyter-widgets/base",
            "_view_module_version": "1.2.0",
            "_view_name": "LayoutView",
            "align_content": null,
            "align_items": null,
            "align_self": null,
            "border": null,
            "bottom": null,
            "display": null,
            "flex": null,
            "flex_flow": null,
            "grid_area": null,
            "grid_auto_columns": null,
            "grid_auto_flow": null,
            "grid_auto_rows": null,
            "grid_column": null,
            "grid_gap": null,
            "grid_row": null,
            "grid_template_areas": null,
            "grid_template_columns": null,
            "grid_template_rows": null,
            "height": null,
            "justify_content": null,
            "justify_items": null,
            "left": null,
            "margin": null,
            "max_height": null,
            "max_width": null,
            "min_height": null,
            "min_width": null,
            "object_fit": null,
            "object_position": null,
            "order": null,
            "overflow": null,
            "overflow_x": null,
            "overflow_y": null,
            "padding": null,
            "right": null,
            "top": null,
            "visibility": null,
            "width": null
          }
        },
        "50ab99ae7d674514adb10eef4ec6770f": {
          "model_module": "@jupyter-widgets/controls",
          "model_name": "DescriptionStyleModel",
          "model_module_version": "1.5.0",
          "state": {
            "_model_module": "@jupyter-widgets/controls",
            "_model_module_version": "1.5.0",
            "_model_name": "DescriptionStyleModel",
            "_view_count": null,
            "_view_module": "@jupyter-widgets/base",
            "_view_module_version": "1.2.0",
            "_view_name": "StyleView",
            "description_width": ""
          }
        },
        "7439d843cb594482a977f2e3b724f411": {
          "model_module": "@jupyter-widgets/base",
          "model_name": "LayoutModel",
          "model_module_version": "1.2.0",
          "state": {
            "_model_module": "@jupyter-widgets/base",
            "_model_module_version": "1.2.0",
            "_model_name": "LayoutModel",
            "_view_count": null,
            "_view_module": "@jupyter-widgets/base",
            "_view_module_version": "1.2.0",
            "_view_name": "LayoutView",
            "align_content": null,
            "align_items": null,
            "align_self": null,
            "border": null,
            "bottom": null,
            "display": null,
            "flex": null,
            "flex_flow": null,
            "grid_area": null,
            "grid_auto_columns": null,
            "grid_auto_flow": null,
            "grid_auto_rows": null,
            "grid_column": null,
            "grid_gap": null,
            "grid_row": null,
            "grid_template_areas": null,
            "grid_template_columns": null,
            "grid_template_rows": null,
            "height": null,
            "justify_content": null,
            "justify_items": null,
            "left": null,
            "margin": null,
            "max_height": null,
            "max_width": null,
            "min_height": null,
            "min_width": null,
            "object_fit": null,
            "object_position": null,
            "order": null,
            "overflow": null,
            "overflow_x": null,
            "overflow_y": null,
            "padding": null,
            "right": null,
            "top": null,
            "visibility": null,
            "width": null
          }
        },
        "c4c3bd9094064645b9cd28e4f99ece24": {
          "model_module": "@jupyter-widgets/controls",
          "model_name": "ProgressStyleModel",
          "model_module_version": "1.5.0",
          "state": {
            "_model_module": "@jupyter-widgets/controls",
            "_model_module_version": "1.5.0",
            "_model_name": "ProgressStyleModel",
            "_view_count": null,
            "_view_module": "@jupyter-widgets/base",
            "_view_module_version": "1.2.0",
            "_view_name": "StyleView",
            "bar_color": null,
            "description_width": ""
          }
        },
        "8c1980aaa4674b3697913c7bc109c3a0": {
          "model_module": "@jupyter-widgets/base",
          "model_name": "LayoutModel",
          "model_module_version": "1.2.0",
          "state": {
            "_model_module": "@jupyter-widgets/base",
            "_model_module_version": "1.2.0",
            "_model_name": "LayoutModel",
            "_view_count": null,
            "_view_module": "@jupyter-widgets/base",
            "_view_module_version": "1.2.0",
            "_view_name": "LayoutView",
            "align_content": null,
            "align_items": null,
            "align_self": null,
            "border": null,
            "bottom": null,
            "display": null,
            "flex": null,
            "flex_flow": null,
            "grid_area": null,
            "grid_auto_columns": null,
            "grid_auto_flow": null,
            "grid_auto_rows": null,
            "grid_column": null,
            "grid_gap": null,
            "grid_row": null,
            "grid_template_areas": null,
            "grid_template_columns": null,
            "grid_template_rows": null,
            "height": null,
            "justify_content": null,
            "justify_items": null,
            "left": null,
            "margin": null,
            "max_height": null,
            "max_width": null,
            "min_height": null,
            "min_width": null,
            "object_fit": null,
            "object_position": null,
            "order": null,
            "overflow": null,
            "overflow_x": null,
            "overflow_y": null,
            "padding": null,
            "right": null,
            "top": null,
            "visibility": null,
            "width": null
          }
        },
        "f301a3c5df5446acaca607a5c53a73fd": {
          "model_module": "@jupyter-widgets/controls",
          "model_name": "DescriptionStyleModel",
          "model_module_version": "1.5.0",
          "state": {
            "_model_module": "@jupyter-widgets/controls",
            "_model_module_version": "1.5.0",
            "_model_name": "DescriptionStyleModel",
            "_view_count": null,
            "_view_module": "@jupyter-widgets/base",
            "_view_module_version": "1.2.0",
            "_view_name": "StyleView",
            "description_width": ""
          }
        }
      }
    }
  },
  "nbformat": 4,
  "nbformat_minor": 0
}