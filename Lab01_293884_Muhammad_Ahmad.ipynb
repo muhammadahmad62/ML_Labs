{
  "nbformat": 4,
  "nbformat_minor": 0,
  "metadata": {
    "colab": {
      "name": "Lab01_293884_Muhammad Ahmad.ipynb",
      "provenance": [],
      "collapsed_sections": [],
      "include_colab_link": true
    },
    "kernelspec": {
      "name": "python3",
      "display_name": "Python 3"
    },
    "language_info": {
      "name": "python"
    }
  },
  "cells": [
    {
      "cell_type": "markdown",
      "metadata": {
        "id": "view-in-github",
        "colab_type": "text"
      },
      "source": [
        "<a href=\"https://colab.research.google.com/github/muhammadahmad62/ML_Labs/blob/main/Lab01_293884_Muhammad_Ahmad.ipynb\" target=\"_parent\"><img src=\"https://colab.research.google.com/assets/colab-badge.svg\" alt=\"Open In Colab\"/></a>"
      ]
    },
    {
      "cell_type": "code",
      "execution_count": 1,
      "metadata": {
        "id": "f5pCe8TcR1i1"
      },
      "outputs": [],
      "source": [
        "import pandas as pd\n",
        "from sklearn.tree import DecisionTreeClassifier\n",
        "from sklearn.model_selection import train_test_split\n",
        "from sklearn.metrics import accuracy_score\n",
        "from sklearn.metrics import classification_report\n",
        "from sklearn import tree\n",
        "import matplotlib.pyplot as plt\n",
        "from sklearn.metrics import mean_squared_error as mse"
      ]
    },
    {
      "cell_type": "code",
      "source": [
        "df = pd.read_csv(\"/content/sample_data/0_analcatdata_bondrate.csv\",sep=';')"
      ],
      "metadata": {
        "id": "4Tr5Uz2YSzz9"
      },
      "execution_count": 2,
      "outputs": []
    },
    {
      "cell_type": "code",
      "source": [
        "df.head()"
      ],
      "metadata": {
        "colab": {
          "base_uri": "https://localhost:8080/",
          "height": 270
        },
        "id": "icR1wqcDTAj9",
        "outputId": "c4ea186d-d0d4-46d7-d34c-b3732ded7b71"
      },
      "execution_count": 3,
      "outputs": [
        {
          "output_type": "execute_result",
          "data": {
            "text/html": [
              "\n",
              "  <div id=\"df-afa792c0-5dc0-4607-8b27-de00eaf4a1db\">\n",
              "    <div class=\"colab-df-container\">\n",
              "      <div>\n",
              "<style scoped>\n",
              "    .dataframe tbody tr th:only-of-type {\n",
              "        vertical-align: middle;\n",
              "    }\n",
              "\n",
              "    .dataframe tbody tr th {\n",
              "        vertical-align: top;\n",
              "    }\n",
              "\n",
              "    .dataframe thead th {\n",
              "        text-align: right;\n",
              "    }\n",
              "</style>\n",
              "<table border=\"1\" class=\"dataframe\">\n",
              "  <thead>\n",
              "    <tr style=\"text-align: right;\">\n",
              "      <th></th>\n",
              "      <th>att1</th>\n",
              "      <th>att2</th>\n",
              "      <th>att3</th>\n",
              "      <th>att4</th>\n",
              "      <th>att5</th>\n",
              "      <th>att6</th>\n",
              "      <th>att7</th>\n",
              "      <th>att8</th>\n",
              "      <th>att9</th>\n",
              "      <th>att10</th>\n",
              "      <th>att11</th>\n",
              "      <th>att12</th>\n",
              "      <th>att13</th>\n",
              "      <th>att14</th>\n",
              "      <th>att15</th>\n",
              "      <th>att16</th>\n",
              "      <th>att17</th>\n",
              "      <th>att18</th>\n",
              "      <th>att19</th>\n",
              "      <th>att20</th>\n",
              "      <th>att21</th>\n",
              "      <th>att22</th>\n",
              "      <th>att23</th>\n",
              "      <th>att24</th>\n",
              "      <th>att25</th>\n",
              "      <th>att26</th>\n",
              "      <th>att27</th>\n",
              "      <th>att28</th>\n",
              "      <th>att29</th>\n",
              "      <th>att30</th>\n",
              "      <th>att31</th>\n",
              "      <th>att32</th>\n",
              "      <th>att33</th>\n",
              "      <th>att34</th>\n",
              "      <th>att35</th>\n",
              "      <th>att36</th>\n",
              "      <th>att37</th>\n",
              "      <th>att38</th>\n",
              "      <th>label</th>\n",
              "    </tr>\n",
              "  </thead>\n",
              "  <tbody>\n",
              "    <tr>\n",
              "      <th>0</th>\n",
              "      <td>-1.0</td>\n",
              "      <td>1.0</td>\n",
              "      <td>-1.0</td>\n",
              "      <td>-1.0</td>\n",
              "      <td>-1.0</td>\n",
              "      <td>-1.0</td>\n",
              "      <td>-1.0</td>\n",
              "      <td>-1.0</td>\n",
              "      <td>-1.0</td>\n",
              "      <td>-1.0</td>\n",
              "      <td>-1.0</td>\n",
              "      <td>-1.0</td>\n",
              "      <td>-1.0</td>\n",
              "      <td>1.0</td>\n",
              "      <td>-1.0</td>\n",
              "      <td>-1.0</td>\n",
              "      <td>-1.0</td>\n",
              "      <td>-1.0</td>\n",
              "      <td>-1.0</td>\n",
              "      <td>-1.0</td>\n",
              "      <td>1.0</td>\n",
              "      <td>-1.0</td>\n",
              "      <td>-1.0</td>\n",
              "      <td>-1.0</td>\n",
              "      <td>-1.0</td>\n",
              "      <td>-1.0</td>\n",
              "      <td>1.0</td>\n",
              "      <td>-1.0</td>\n",
              "      <td>-1.0</td>\n",
              "      <td>1.0</td>\n",
              "      <td>-1.0</td>\n",
              "      <td>-1.0</td>\n",
              "      <td>1.0</td>\n",
              "      <td>-1.0</td>\n",
              "      <td>-0.979387</td>\n",
              "      <td>0.088626</td>\n",
              "      <td>-0.230099</td>\n",
              "      <td>-0.166425</td>\n",
              "      <td>1</td>\n",
              "    </tr>\n",
              "    <tr>\n",
              "      <th>1</th>\n",
              "      <td>-1.0</td>\n",
              "      <td>-1.0</td>\n",
              "      <td>-1.0</td>\n",
              "      <td>-1.0</td>\n",
              "      <td>1.0</td>\n",
              "      <td>-1.0</td>\n",
              "      <td>-1.0</td>\n",
              "      <td>-1.0</td>\n",
              "      <td>-1.0</td>\n",
              "      <td>-1.0</td>\n",
              "      <td>-1.0</td>\n",
              "      <td>1.0</td>\n",
              "      <td>-1.0</td>\n",
              "      <td>-1.0</td>\n",
              "      <td>-1.0</td>\n",
              "      <td>-1.0</td>\n",
              "      <td>-1.0</td>\n",
              "      <td>-1.0</td>\n",
              "      <td>-1.0</td>\n",
              "      <td>1.0</td>\n",
              "      <td>-1.0</td>\n",
              "      <td>-1.0</td>\n",
              "      <td>-1.0</td>\n",
              "      <td>-1.0</td>\n",
              "      <td>-1.0</td>\n",
              "      <td>-1.0</td>\n",
              "      <td>1.0</td>\n",
              "      <td>-1.0</td>\n",
              "      <td>-1.0</td>\n",
              "      <td>-1.0</td>\n",
              "      <td>1.0</td>\n",
              "      <td>-1.0</td>\n",
              "      <td>-1.0</td>\n",
              "      <td>1.0</td>\n",
              "      <td>-0.733283</td>\n",
              "      <td>0.236688</td>\n",
              "      <td>-0.267181</td>\n",
              "      <td>0.114534</td>\n",
              "      <td>1</td>\n",
              "    </tr>\n",
              "    <tr>\n",
              "      <th>2</th>\n",
              "      <td>-1.0</td>\n",
              "      <td>-1.0</td>\n",
              "      <td>-1.0</td>\n",
              "      <td>-1.0</td>\n",
              "      <td>-1.0</td>\n",
              "      <td>-1.0</td>\n",
              "      <td>-1.0</td>\n",
              "      <td>1.0</td>\n",
              "      <td>-1.0</td>\n",
              "      <td>-1.0</td>\n",
              "      <td>1.0</td>\n",
              "      <td>-1.0</td>\n",
              "      <td>-1.0</td>\n",
              "      <td>-1.0</td>\n",
              "      <td>-1.0</td>\n",
              "      <td>-1.0</td>\n",
              "      <td>-1.0</td>\n",
              "      <td>-1.0</td>\n",
              "      <td>1.0</td>\n",
              "      <td>-1.0</td>\n",
              "      <td>-1.0</td>\n",
              "      <td>-1.0</td>\n",
              "      <td>-1.0</td>\n",
              "      <td>-1.0</td>\n",
              "      <td>-1.0</td>\n",
              "      <td>1.0</td>\n",
              "      <td>-1.0</td>\n",
              "      <td>-1.0</td>\n",
              "      <td>-1.0</td>\n",
              "      <td>-1.0</td>\n",
              "      <td>1.0</td>\n",
              "      <td>-1.0</td>\n",
              "      <td>-1.0</td>\n",
              "      <td>1.0</td>\n",
              "      <td>-0.968510</td>\n",
              "      <td>0.147178</td>\n",
              "      <td>-0.778089</td>\n",
              "      <td>-0.158039</td>\n",
              "      <td>1</td>\n",
              "    </tr>\n",
              "    <tr>\n",
              "      <th>3</th>\n",
              "      <td>1.0</td>\n",
              "      <td>-1.0</td>\n",
              "      <td>-1.0</td>\n",
              "      <td>-1.0</td>\n",
              "      <td>-1.0</td>\n",
              "      <td>-1.0</td>\n",
              "      <td>-1.0</td>\n",
              "      <td>-1.0</td>\n",
              "      <td>-1.0</td>\n",
              "      <td>-1.0</td>\n",
              "      <td>-1.0</td>\n",
              "      <td>-1.0</td>\n",
              "      <td>-1.0</td>\n",
              "      <td>1.0</td>\n",
              "      <td>-1.0</td>\n",
              "      <td>-1.0</td>\n",
              "      <td>-1.0</td>\n",
              "      <td>-1.0</td>\n",
              "      <td>-1.0</td>\n",
              "      <td>-1.0</td>\n",
              "      <td>-1.0</td>\n",
              "      <td>-1.0</td>\n",
              "      <td>1.0</td>\n",
              "      <td>-1.0</td>\n",
              "      <td>-1.0</td>\n",
              "      <td>1.0</td>\n",
              "      <td>-1.0</td>\n",
              "      <td>-1.0</td>\n",
              "      <td>-1.0</td>\n",
              "      <td>-1.0</td>\n",
              "      <td>-1.0</td>\n",
              "      <td>1.0</td>\n",
              "      <td>1.0</td>\n",
              "      <td>-1.0</td>\n",
              "      <td>-0.995804</td>\n",
              "      <td>-0.650097</td>\n",
              "      <td>-0.605356</td>\n",
              "      <td>-0.608369</td>\n",
              "      <td>2</td>\n",
              "    </tr>\n",
              "    <tr>\n",
              "      <th>4</th>\n",
              "      <td>-1.0</td>\n",
              "      <td>-1.0</td>\n",
              "      <td>1.0</td>\n",
              "      <td>-1.0</td>\n",
              "      <td>-1.0</td>\n",
              "      <td>-1.0</td>\n",
              "      <td>-1.0</td>\n",
              "      <td>-1.0</td>\n",
              "      <td>-1.0</td>\n",
              "      <td>-1.0</td>\n",
              "      <td>-1.0</td>\n",
              "      <td>-1.0</td>\n",
              "      <td>-1.0</td>\n",
              "      <td>1.0</td>\n",
              "      <td>-1.0</td>\n",
              "      <td>-1.0</td>\n",
              "      <td>-1.0</td>\n",
              "      <td>-1.0</td>\n",
              "      <td>-1.0</td>\n",
              "      <td>1.0</td>\n",
              "      <td>-1.0</td>\n",
              "      <td>-1.0</td>\n",
              "      <td>-1.0</td>\n",
              "      <td>-1.0</td>\n",
              "      <td>-1.0</td>\n",
              "      <td>-1.0</td>\n",
              "      <td>1.0</td>\n",
              "      <td>-1.0</td>\n",
              "      <td>-1.0</td>\n",
              "      <td>-1.0</td>\n",
              "      <td>1.0</td>\n",
              "      <td>-1.0</td>\n",
              "      <td>1.0</td>\n",
              "      <td>-1.0</td>\n",
              "      <td>-0.785023</td>\n",
              "      <td>0.135503</td>\n",
              "      <td>0.028472</td>\n",
              "      <td>-0.000623</td>\n",
              "      <td>2</td>\n",
              "    </tr>\n",
              "  </tbody>\n",
              "</table>\n",
              "</div>\n",
              "      <button class=\"colab-df-convert\" onclick=\"convertToInteractive('df-afa792c0-5dc0-4607-8b27-de00eaf4a1db')\"\n",
              "              title=\"Convert this dataframe to an interactive table.\"\n",
              "              style=\"display:none;\">\n",
              "        \n",
              "  <svg xmlns=\"http://www.w3.org/2000/svg\" height=\"24px\"viewBox=\"0 0 24 24\"\n",
              "       width=\"24px\">\n",
              "    <path d=\"M0 0h24v24H0V0z\" fill=\"none\"/>\n",
              "    <path d=\"M18.56 5.44l.94 2.06.94-2.06 2.06-.94-2.06-.94-.94-2.06-.94 2.06-2.06.94zm-11 1L8.5 8.5l.94-2.06 2.06-.94-2.06-.94L8.5 2.5l-.94 2.06-2.06.94zm10 10l.94 2.06.94-2.06 2.06-.94-2.06-.94-.94-2.06-.94 2.06-2.06.94z\"/><path d=\"M17.41 7.96l-1.37-1.37c-.4-.4-.92-.59-1.43-.59-.52 0-1.04.2-1.43.59L10.3 9.45l-7.72 7.72c-.78.78-.78 2.05 0 2.83L4 21.41c.39.39.9.59 1.41.59.51 0 1.02-.2 1.41-.59l7.78-7.78 2.81-2.81c.8-.78.8-2.07 0-2.86zM5.41 20L4 18.59l7.72-7.72 1.47 1.35L5.41 20z\"/>\n",
              "  </svg>\n",
              "      </button>\n",
              "      \n",
              "  <style>\n",
              "    .colab-df-container {\n",
              "      display:flex;\n",
              "      flex-wrap:wrap;\n",
              "      gap: 12px;\n",
              "    }\n",
              "\n",
              "    .colab-df-convert {\n",
              "      background-color: #E8F0FE;\n",
              "      border: none;\n",
              "      border-radius: 50%;\n",
              "      cursor: pointer;\n",
              "      display: none;\n",
              "      fill: #1967D2;\n",
              "      height: 32px;\n",
              "      padding: 0 0 0 0;\n",
              "      width: 32px;\n",
              "    }\n",
              "\n",
              "    .colab-df-convert:hover {\n",
              "      background-color: #E2EBFA;\n",
              "      box-shadow: 0px 1px 2px rgba(60, 64, 67, 0.3), 0px 1px 3px 1px rgba(60, 64, 67, 0.15);\n",
              "      fill: #174EA6;\n",
              "    }\n",
              "\n",
              "    [theme=dark] .colab-df-convert {\n",
              "      background-color: #3B4455;\n",
              "      fill: #D2E3FC;\n",
              "    }\n",
              "\n",
              "    [theme=dark] .colab-df-convert:hover {\n",
              "      background-color: #434B5C;\n",
              "      box-shadow: 0px 1px 3px 1px rgba(0, 0, 0, 0.15);\n",
              "      filter: drop-shadow(0px 1px 2px rgba(0, 0, 0, 0.3));\n",
              "      fill: #FFFFFF;\n",
              "    }\n",
              "  </style>\n",
              "\n",
              "      <script>\n",
              "        const buttonEl =\n",
              "          document.querySelector('#df-afa792c0-5dc0-4607-8b27-de00eaf4a1db button.colab-df-convert');\n",
              "        buttonEl.style.display =\n",
              "          google.colab.kernel.accessAllowed ? 'block' : 'none';\n",
              "\n",
              "        async function convertToInteractive(key) {\n",
              "          const element = document.querySelector('#df-afa792c0-5dc0-4607-8b27-de00eaf4a1db');\n",
              "          const dataTable =\n",
              "            await google.colab.kernel.invokeFunction('convertToInteractive',\n",
              "                                                     [key], {});\n",
              "          if (!dataTable) return;\n",
              "\n",
              "          const docLinkHtml = 'Like what you see? Visit the ' +\n",
              "            '<a target=\"_blank\" href=https://colab.research.google.com/notebooks/data_table.ipynb>data table notebook</a>'\n",
              "            + ' to learn more about interactive tables.';\n",
              "          element.innerHTML = '';\n",
              "          dataTable['output_type'] = 'display_data';\n",
              "          await google.colab.output.renderOutput(dataTable, element);\n",
              "          const docLink = document.createElement('div');\n",
              "          docLink.innerHTML = docLinkHtml;\n",
              "          element.appendChild(docLink);\n",
              "        }\n",
              "      </script>\n",
              "    </div>\n",
              "  </div>\n",
              "  "
            ],
            "text/plain": [
              "   att1  att2  att3  att4  att5  ...     att35     att36     att37     att38  label\n",
              "0  -1.0   1.0  -1.0  -1.0  -1.0  ... -0.979387  0.088626 -0.230099 -0.166425      1\n",
              "1  -1.0  -1.0  -1.0  -1.0   1.0  ... -0.733283  0.236688 -0.267181  0.114534      1\n",
              "2  -1.0  -1.0  -1.0  -1.0  -1.0  ... -0.968510  0.147178 -0.778089 -0.158039      1\n",
              "3   1.0  -1.0  -1.0  -1.0  -1.0  ... -0.995804 -0.650097 -0.605356 -0.608369      2\n",
              "4  -1.0  -1.0   1.0  -1.0  -1.0  ... -0.785023  0.135503  0.028472 -0.000623      2\n",
              "\n",
              "[5 rows x 39 columns]"
            ]
          },
          "metadata": {},
          "execution_count": 3
        }
      ]
    },
    {
      "cell_type": "code",
      "source": [
        "X = df.iloc[:, :-1].values\n",
        "Y = df.iloc[:, -1].values"
      ],
      "metadata": {
        "id": "a_WNPGU-Tyb1"
      },
      "execution_count": 4,
      "outputs": []
    },
    {
      "cell_type": "code",
      "source": [
        "X_train, X_test, y_train, y_test = train_test_split(X, Y, test_size=0.20,random_state = 42)"
      ],
      "metadata": {
        "id": "QrVmLVB8TgFy"
      },
      "execution_count": 5,
      "outputs": []
    },
    {
      "cell_type": "code",
      "source": [
        "clf_list = []\n",
        "score_list = []\n",
        "train_scores=[]\n",
        "test_scores=[]\n",
        "testing_error = []\n",
        "training_error = []\n",
        "depths = []\n",
        "max_depths = range(1, 39)"
      ],
      "metadata": {
        "id": "xHjWvjdOotgw"
      },
      "execution_count": 6,
      "outputs": []
    },
    {
      "cell_type": "code",
      "source": [
        "for i in range(1,39):\n",
        "  clf = DecisionTreeClassifier(criterion='entropy',max_depth=i,random_state = 42)\n",
        "  clf = clf.fit(X,Y)\n",
        "  training_error.append(mse(Y, clf.predict(X)))\n",
        "  clf.fit(X_train, y_train)\n",
        "  testing_error.append(mse(y_test, clf.predict(X_test)))\n",
        "  y_pred = clf.predict(X_test)\n",
        "  print(\"Accuracy at depth \",str(i),\" is \", accuracy_score(y_test, y_pred))\n",
        "  clf_list.append(clf)\n",
        "  score_list.append(accuracy_score(y_test, y_pred))\n",
        "  train_score=clf.score(X_train,y_train)\n",
        "  test_score=clf.score(X_test,y_test)\n",
        "  train_scores.append(train_score)\n",
        "  test_scores.append(test_score)\n",
        "  depths.append(i)"
      ],
      "metadata": {
        "colab": {
          "base_uri": "https://localhost:8080/"
        },
        "id": "ulMRSNMFd8xj",
        "outputId": "859c734f-95bf-4cbb-bbc2-e26c731af6ed"
      },
      "execution_count": 7,
      "outputs": [
        {
          "output_type": "stream",
          "name": "stdout",
          "text": [
            "Accuracy at depth  1  is  0.5833333333333334\n",
            "Accuracy at depth  2  is  0.5833333333333334\n",
            "Accuracy at depth  3  is  0.25\n",
            "Accuracy at depth  4  is  0.3333333333333333\n",
            "Accuracy at depth  5  is  0.25\n",
            "Accuracy at depth  6  is  0.3333333333333333\n",
            "Accuracy at depth  7  is  0.4166666666666667\n",
            "Accuracy at depth  8  is  0.4166666666666667\n",
            "Accuracy at depth  9  is  0.4166666666666667\n",
            "Accuracy at depth  10  is  0.4166666666666667\n",
            "Accuracy at depth  11  is  0.4166666666666667\n",
            "Accuracy at depth  12  is  0.4166666666666667\n",
            "Accuracy at depth  13  is  0.4166666666666667\n",
            "Accuracy at depth  14  is  0.4166666666666667\n",
            "Accuracy at depth  15  is  0.4166666666666667\n",
            "Accuracy at depth  16  is  0.4166666666666667\n",
            "Accuracy at depth  17  is  0.4166666666666667\n",
            "Accuracy at depth  18  is  0.4166666666666667\n",
            "Accuracy at depth  19  is  0.4166666666666667\n",
            "Accuracy at depth  20  is  0.4166666666666667\n",
            "Accuracy at depth  21  is  0.4166666666666667\n",
            "Accuracy at depth  22  is  0.4166666666666667\n",
            "Accuracy at depth  23  is  0.4166666666666667\n",
            "Accuracy at depth  24  is  0.4166666666666667\n",
            "Accuracy at depth  25  is  0.4166666666666667\n",
            "Accuracy at depth  26  is  0.4166666666666667\n",
            "Accuracy at depth  27  is  0.4166666666666667\n",
            "Accuracy at depth  28  is  0.4166666666666667\n",
            "Accuracy at depth  29  is  0.4166666666666667\n",
            "Accuracy at depth  30  is  0.4166666666666667\n",
            "Accuracy at depth  31  is  0.4166666666666667\n",
            "Accuracy at depth  32  is  0.4166666666666667\n",
            "Accuracy at depth  33  is  0.4166666666666667\n",
            "Accuracy at depth  34  is  0.4166666666666667\n",
            "Accuracy at depth  35  is  0.4166666666666667\n",
            "Accuracy at depth  36  is  0.4166666666666667\n",
            "Accuracy at depth  37  is  0.4166666666666667\n",
            "Accuracy at depth  38  is  0.4166666666666667\n"
          ]
        }
      ]
    },
    {
      "cell_type": "code",
      "source": [
        "max_score = max(score_list)\n",
        "print(max_score)\n",
        "max_score_index = score_list.index(max(score_list))\n",
        "clf_to_plot = clf_list[max_score_index]\n",
        "tree.plot_tree(clf_to_plot, filled = True)"
      ],
      "metadata": {
        "colab": {
          "base_uri": "https://localhost:8080/",
          "height": 319
        },
        "id": "v-DzrE7rmlt0",
        "outputId": "a975bde8-b4da-424c-e784-a317763d99e9"
      },
      "execution_count": 8,
      "outputs": [
        {
          "output_type": "stream",
          "name": "stdout",
          "text": [
            "0.5833333333333334\n"
          ]
        },
        {
          "output_type": "execute_result",
          "data": {
            "text/plain": [
              "[Text(0.5, 0.75, 'X[30] <= 0.0\\nentropy = 1.647\\nsamples = 45\\nvalue = [3, 26, 11, 4, 1]'),\n",
              " Text(0.25, 0.25, 'entropy = 1.62\\nsamples = 27\\nvalue = [0, 13, 9, 4, 1]'),\n",
              " Text(0.75, 0.25, 'entropy = 1.122\\nsamples = 18\\nvalue = [3, 13, 2, 0, 0]')]"
            ]
          },
          "metadata": {},
          "execution_count": 8
        },
        {
          "output_type": "display_data",
          "data": {
            "image/png": "[encoded data removed]",
            "text/plain": [
              "<Figure size 432x288 with 1 Axes>"
            ]
          },
          "metadata": {
            "needs_background": "light"
          }
        }
      ]
    },
    {
      "cell_type": "code",
      "source": [
        "#the depth that avoids overfitting is 2 in this case"
      ],
      "metadata": {
        "id": "MgQQoow07Zwt"
      },
      "execution_count": 9,
      "outputs": []
    },
    {
      "cell_type": "code",
      "source": [
        "plt.plot(depths,train_scores, color='red',label='Training Accuracy')\n",
        "plt.plot(depths,test_scores, color='blue',label='Testing Accuracy')\n",
        "plt.xlabel('K values')\n",
        "plt.ylabel('Accuracy Score')\n",
        "plt.title('Performace Under Varying depth Values')"
      ],
      "metadata": {
        "colab": {
          "base_uri": "https://localhost:8080/",
          "height": 313
        },
        "id": "q5OI3L0nygWq",
        "outputId": "bdffca11-60b5-4d80-8c5d-5582a61adf02"
      },
      "execution_count": 10,
      "outputs": [
        {
          "output_type": "execute_result",
          "data": {
            "text/plain": [
              "Text(0.5, 1.0, 'Performace Under Varying depth Values')"
            ]
          },
          "metadata": {},
          "execution_count": 10
        },
        {
          "output_type": "display_data",
          "data": {
            "image/png": "[encoded data removed]",
            "text/plain": [
              "<Figure size 432x288 with 1 Axes>"
            ]
          },
          "metadata": {
            "needs_background": "light"
          }
        }
      ]
    },
    {
      "cell_type": "code",
      "source": [
        "plt.plot(max_depths, training_error, color='blue', label='Training error')\n",
        "plt.plot(max_depths, testing_error, color='green', label='Testing error')\n",
        "plt.xlabel('Tree depth')\n",
        "plt.ylabel('Mean squared error')"
      ],
      "metadata": {
        "colab": {
          "base_uri": "https://localhost:8080/",
          "height": 297
        },
        "id": "nkd4fIl9n3AC",
        "outputId": "794f851e-7652-4d5c-9859-d683dca4e287"
      },
      "execution_count": 11,
      "outputs": [
        {
          "output_type": "execute_result",
          "data": {
            "text/plain": [
              "Text(0, 0.5, 'Mean squared error')"
            ]
          },
          "metadata": {},
          "execution_count": 11
        },
        {
          "output_type": "display_data",
          "data": {
            "image/png": "[encoded data removed]",
            "text/plain": [
              "<Figure size 432x288 with 1 Axes>"
            ]
          },
          "metadata": {
            "needs_background": "light"
          }
        }
      ]
    },
    {
      "cell_type": "code",
      "source": [
        "import graphviz \n",
        "from sklearn import tree\n",
        "dot_data = tree.export_graphviz(clf_to_plot) \n",
        "graph = graphviz.Source(dot_data) "
      ],
      "metadata": {
        "id": "zIRpVkFrXD65"
      },
      "execution_count": 12,
      "outputs": []
    },
    {
      "cell_type": "code",
      "source": [
        "graph.render()"
      ],
      "metadata": {
        "id": "D7QzIzLkYH6-",
        "colab": {
          "base_uri": "https://localhost:8080/",
          "height": 36
        },
        "outputId": "298c72ca-98eb-46aa-98ae-70647f37b9a4"
      },
      "execution_count": 13,
      "outputs": [
        {
          "output_type": "execute_result",
          "data": {
            "application/vnd.google.colaboratory.intrinsic+json": {
              "type": "string"
            },
            "text/plain": [
              "'Source.gv.pdf'"
            ]
          },
          "metadata": {},
          "execution_count": 13
        }
      ]
    }
  ]
}